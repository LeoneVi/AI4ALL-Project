{
 "cells": [
  {
   "cell_type": "markdown",
   "id": "d1ea31c4f29bd5c5",
   "metadata": {},
   "source": [
    "## Import Packages"
   ]
  },
  {
   "cell_type": "code",
   "execution_count": 41,
   "id": "fbc121e30a2defb3",
   "metadata": {
    "ExecuteTime": {
     "end_time": "2025-06-16T00:27:40.292791Z",
     "start_time": "2025-06-16T00:27:40.290040Z"
    }
   },
   "outputs": [],
   "source": [
    "import kagglehub\n",
    "import numpy as np\n",
    "import pandas as pd\n",
    "import os\n",
    "\n",
    "from sklearn.preprocessing import StandardScaler\n"
   ]
  },
  {
   "cell_type": "markdown",
   "id": "41647eceee4eaa9c",
   "metadata": {},
   "source": [
    "## Load the dataset"
   ]
  },
  {
   "cell_type": "code",
   "execution_count": 42,
   "id": "c6c99ba3b14bf69d",
   "metadata": {
    "ExecuteTime": {
     "end_time": "2025-06-16T00:27:42.262955Z",
     "start_time": "2025-06-16T00:27:42.238856Z"
    }
   },
   "outputs": [
    {
     "name": "stdout",
     "output_type": "stream",
     "text": [
      "ISIC_2019_Training_Metadata.csv\n",
      "          image  age_approx anatom_site_general lesion_id     sex\n",
      "0  ISIC_0000000        55.0      anterior torso       NaN  female\n",
      "1  ISIC_0000001        30.0      anterior torso       NaN  female\n",
      "2  ISIC_0000002        60.0     upper extremity       NaN  female\n",
      "3  ISIC_0000003        30.0     upper extremity       NaN    male\n",
      "4  ISIC_0000004        80.0     posterior torso       NaN    male \n",
      "\n",
      "Number of rows in MetaData CSV: 25331\n"
     ]
    }
   ],
   "source": [
    "metadata_df = pd.read_csv('data/andrewmvd/isic-2019/versions/1/ISIC_2019_Training_Metadata.csv')\n",
    "\n",
    "\n",
    "print(\"ISIC_2019_Training_Metadata.csv\")\n",
    "print(metadata_df.head(),\"\\n\")\n",
    "print(\"Number of rows in MetaData CSV:\", len(metadata_df))"
   ]
  },
  {
   "cell_type": "code",
   "execution_count": 43,
   "id": "6d22159116282992",
   "metadata": {
    "ExecuteTime": {
     "end_time": "2025-06-16T00:27:43.825577Z",
     "start_time": "2025-06-16T00:27:43.819852Z"
    }
   },
   "outputs": [
    {
     "name": "stdout",
     "output_type": "stream",
     "text": [
      "image                     0\n",
      "age_approx              437\n",
      "anatom_site_general    2631\n",
      "lesion_id              2084\n",
      "sex                     384\n",
      "dtype: int64\n"
     ]
    }
   ],
   "source": [
    "print(metadata_df.isnull().sum())"
   ]
  },
  {
   "cell_type": "code",
   "execution_count": 44,
   "id": "564016b2",
   "metadata": {
    "ExecuteTime": {
     "end_time": "2025-06-16T00:27:44.954433Z",
     "start_time": "2025-06-16T00:27:44.947567Z"
    }
   },
   "outputs": [
    {
     "name": "stdout",
     "output_type": "stream",
     "text": [
      "<class 'pandas.core.frame.DataFrame'>\n",
      "RangeIndex: 25331 entries, 0 to 25330\n",
      "Data columns (total 5 columns):\n",
      " #   Column               Non-Null Count  Dtype  \n",
      "---  ------               --------------  -----  \n",
      " 0   image                25331 non-null  object \n",
      " 1   age_approx           24894 non-null  float64\n",
      " 2   anatom_site_general  22700 non-null  object \n",
      " 3   lesion_id            23247 non-null  object \n",
      " 4   sex                  24947 non-null  object \n",
      "dtypes: float64(1), object(4)\n",
      "memory usage: 989.6+ KB\n"
     ]
    }
   ],
   "source": [
    "metadata_df.info()\n"
   ]
  },
  {
   "cell_type": "code",
   "execution_count": 45,
   "id": "19a5c3a3",
   "metadata": {
    "ExecuteTime": {
     "end_time": "2025-06-16T00:27:46.253204Z",
     "start_time": "2025-06-16T00:27:46.250086Z"
    }
   },
   "outputs": [],
   "source": [
    "metadata_clean = metadata_df.copy()"
   ]
  },
  {
   "cell_type": "markdown",
   "id": "47640775",
   "metadata": {},
   "source": [
    "## Cleaning the data"
   ]
  },
  {
   "cell_type": "code",
   "execution_count": 46,
   "id": "22f7159f",
   "metadata": {
    "ExecuteTime": {
     "end_time": "2025-06-16T00:27:47.346943Z",
     "start_time": "2025-06-16T00:27:47.342604Z"
    }
   },
   "outputs": [
    {
     "data": {
      "text/plain": [
       "np.int64(0)"
      ]
     },
     "execution_count": 46,
     "metadata": {},
     "output_type": "execute_result"
    }
   ],
   "source": [
    "metadata_clean['image'].duplicated().sum()\n"
   ]
  },
  {
   "cell_type": "code",
   "execution_count": 47,
   "id": "148573ab",
   "metadata": {
    "ExecuteTime": {
     "end_time": "2025-06-16T00:27:48.528720Z",
     "start_time": "2025-06-16T00:27:48.523380Z"
    }
   },
   "outputs": [],
   "source": [
    "\n",
    "# Fill missing values in 'anatom_site_general' with 'unknown'\n",
    "metadata_clean['anatom_site_general'] = metadata_clean['anatom_site_general'].fillna('unknown')\n",
    "# Convert 'anatom_site_general' to categorical type\n",
    "\n",
    "metadata_clean['anatom_site_general'] = metadata_clean['anatom_site_general'].astype('category')"
   ]
  },
  {
   "cell_type": "code",
   "execution_count": 48,
   "id": "dc58b0db",
   "metadata": {
    "ExecuteTime": {
     "end_time": "2025-06-16T00:27:49.338348Z",
     "start_time": "2025-06-16T00:27:49.333415Z"
    }
   },
   "outputs": [],
   "source": [
    "# Fill missing values in 'age_approx' with the median age\n",
    "median_age = metadata_clean['age_approx'].median()\n",
    "metadata_clean['age_approx'] = metadata_clean['age_approx'].fillna(median_age)\n",
    "# Standardize 'age_approx' using StandardScaler\n",
    "scaler = StandardScaler()\n",
    "metadata_clean['age_approx'] = scaler.fit_transform(metadata_clean[['age_approx']])"
   ]
  },
  {
   "cell_type": "code",
   "execution_count": 56,
   "id": "1ed842a0",
   "metadata": {},
   "outputs": [],
   "source": [
    "list_of_images_for_removing = metadata_clean[metadata_clean['lesion_id'].isna()]['image'].tolist()\n",
    "\n",
    "metadata_clean = metadata_clean.dropna(subset=['lesion_id'])\n",
    "\n"
   ]
  },
  {
   "cell_type": "code",
   "execution_count": 50,
   "id": "20b6ad70",
   "metadata": {},
   "outputs": [],
   "source": [
    "with open('to_delete.txt', 'w') as f:\n",
    "    for img in list_of_images_for_removing:\n",
    "        f.write(f\"{img}\\n\")"
   ]
  },
  {
   "cell_type": "code",
   "execution_count": 51,
   "id": "16c1eb57",
   "metadata": {
    "ExecuteTime": {
     "end_time": "2025-06-16T00:27:51.948628Z",
     "start_time": "2025-06-16T00:27:51.945097Z"
    }
   },
   "outputs": [],
   "source": [
    "# Fill missing values in 'sex' with 'unknown'\n",
    "metadata_clean['sex'] = metadata_clean['sex'].fillna('unknown')\n"
   ]
  },
  {
   "cell_type": "code",
   "execution_count": 52,
   "id": "aa793927",
   "metadata": {
    "ExecuteTime": {
     "end_time": "2025-06-16T00:27:53.074886Z",
     "start_time": "2025-06-16T00:27:53.069443Z"
    }
   },
   "outputs": [
    {
     "name": "stdout",
     "output_type": "stream",
     "text": [
      "image                  0\n",
      "age_approx             0\n",
      "anatom_site_general    0\n",
      "lesion_id              0\n",
      "sex                    0\n",
      "dtype: int64\n"
     ]
    }
   ],
   "source": [
    "print(metadata_clean.isnull().sum())\n"
   ]
  },
  {
   "cell_type": "code",
   "execution_count": 53,
   "id": "47cc6839",
   "metadata": {
    "ExecuteTime": {
     "end_time": "2025-06-16T00:27:54.104688Z",
     "start_time": "2025-06-16T00:27:54.098145Z"
    }
   },
   "outputs": [
    {
     "name": "stdout",
     "output_type": "stream",
     "text": [
      "<class 'pandas.core.frame.DataFrame'>\n",
      "Index: 23247 entries, 1459 to 25330\n",
      "Data columns (total 5 columns):\n",
      " #   Column               Non-Null Count  Dtype   \n",
      "---  ------               --------------  -----   \n",
      " 0   image                23247 non-null  object  \n",
      " 1   age_approx           23247 non-null  float64 \n",
      " 2   anatom_site_general  23247 non-null  category\n",
      " 3   lesion_id            23247 non-null  object  \n",
      " 4   sex                  23247 non-null  object  \n",
      "dtypes: category(1), float64(1), object(3)\n",
      "memory usage: 931.2+ KB\n"
     ]
    }
   ],
   "source": [
    "metadata_clean.info()"
   ]
  },
  {
   "cell_type": "code",
   "execution_count": 54,
   "id": "d432f325",
   "metadata": {
    "ExecuteTime": {
     "end_time": "2025-06-16T00:27:55.435154Z",
     "start_time": "2025-06-16T00:27:55.424369Z"
    }
   },
   "outputs": [
    {
     "data": {
      "text/html": [
       "<div>\n",
       "<style scoped>\n",
       "    .dataframe tbody tr th:only-of-type {\n",
       "        vertical-align: middle;\n",
       "    }\n",
       "\n",
       "    .dataframe tbody tr th {\n",
       "        vertical-align: top;\n",
       "    }\n",
       "\n",
       "    .dataframe thead th {\n",
       "        text-align: right;\n",
       "    }\n",
       "</style>\n",
       "<table border=\"1\" class=\"dataframe\">\n",
       "  <thead>\n",
       "    <tr style=\"text-align: right;\">\n",
       "      <th></th>\n",
       "      <th>image</th>\n",
       "      <th>age_approx</th>\n",
       "      <th>lesion_id</th>\n",
       "      <th>sex_female</th>\n",
       "      <th>sex_male</th>\n",
       "      <th>sex_unknown</th>\n",
       "      <th>anatom_site_general_anterior torso</th>\n",
       "      <th>anatom_site_general_head/neck</th>\n",
       "      <th>anatom_site_general_lateral torso</th>\n",
       "      <th>anatom_site_general_lower extremity</th>\n",
       "      <th>anatom_site_general_oral/genital</th>\n",
       "      <th>anatom_site_general_palms/soles</th>\n",
       "      <th>anatom_site_general_posterior torso</th>\n",
       "      <th>anatom_site_general_unknown</th>\n",
       "      <th>anatom_site_general_upper extremity</th>\n",
       "    </tr>\n",
       "  </thead>\n",
       "  <tbody>\n",
       "    <tr>\n",
       "      <th>1459</th>\n",
       "      <td>ISIC_0012653_downsampled</td>\n",
       "      <td>-0.225061</td>\n",
       "      <td>MSK4_0011169</td>\n",
       "      <td>True</td>\n",
       "      <td>False</td>\n",
       "      <td>False</td>\n",
       "      <td>False</td>\n",
       "      <td>False</td>\n",
       "      <td>False</td>\n",
       "      <td>False</td>\n",
       "      <td>False</td>\n",
       "      <td>False</td>\n",
       "      <td>True</td>\n",
       "      <td>False</td>\n",
       "      <td>False</td>\n",
       "    </tr>\n",
       "    <tr>\n",
       "      <th>1460</th>\n",
       "      <td>ISIC_0012654_downsampled</td>\n",
       "      <td>-1.337780</td>\n",
       "      <td>MSK4_0011170</td>\n",
       "      <td>True</td>\n",
       "      <td>False</td>\n",
       "      <td>False</td>\n",
       "      <td>False</td>\n",
       "      <td>False</td>\n",
       "      <td>False</td>\n",
       "      <td>True</td>\n",
       "      <td>False</td>\n",
       "      <td>False</td>\n",
       "      <td>False</td>\n",
       "      <td>False</td>\n",
       "      <td>False</td>\n",
       "    </tr>\n",
       "    <tr>\n",
       "      <th>1461</th>\n",
       "      <td>ISIC_0012655_downsampled</td>\n",
       "      <td>-1.059601</td>\n",
       "      <td>MSK4_0011171</td>\n",
       "      <td>True</td>\n",
       "      <td>False</td>\n",
       "      <td>False</td>\n",
       "      <td>False</td>\n",
       "      <td>False</td>\n",
       "      <td>False</td>\n",
       "      <td>False</td>\n",
       "      <td>False</td>\n",
       "      <td>False</td>\n",
       "      <td>False</td>\n",
       "      <td>False</td>\n",
       "      <td>True</td>\n",
       "    </tr>\n",
       "    <tr>\n",
       "      <th>1462</th>\n",
       "      <td>ISIC_0012656_downsampled</td>\n",
       "      <td>-0.503241</td>\n",
       "      <td>MSK4_0011172</td>\n",
       "      <td>False</td>\n",
       "      <td>True</td>\n",
       "      <td>False</td>\n",
       "      <td>False</td>\n",
       "      <td>False</td>\n",
       "      <td>False</td>\n",
       "      <td>False</td>\n",
       "      <td>False</td>\n",
       "      <td>False</td>\n",
       "      <td>True</td>\n",
       "      <td>False</td>\n",
       "      <td>False</td>\n",
       "    </tr>\n",
       "    <tr>\n",
       "      <th>1463</th>\n",
       "      <td>ISIC_0012657_downsampled</td>\n",
       "      <td>-1.894140</td>\n",
       "      <td>MSK4_0011173</td>\n",
       "      <td>True</td>\n",
       "      <td>False</td>\n",
       "      <td>False</td>\n",
       "      <td>False</td>\n",
       "      <td>False</td>\n",
       "      <td>False</td>\n",
       "      <td>False</td>\n",
       "      <td>False</td>\n",
       "      <td>False</td>\n",
       "      <td>False</td>\n",
       "      <td>False</td>\n",
       "      <td>True</td>\n",
       "    </tr>\n",
       "  </tbody>\n",
       "</table>\n",
       "</div>"
      ],
      "text/plain": [
       "                         image  age_approx     lesion_id  sex_female  \\\n",
       "1459  ISIC_0012653_downsampled   -0.225061  MSK4_0011169        True   \n",
       "1460  ISIC_0012654_downsampled   -1.337780  MSK4_0011170        True   \n",
       "1461  ISIC_0012655_downsampled   -1.059601  MSK4_0011171        True   \n",
       "1462  ISIC_0012656_downsampled   -0.503241  MSK4_0011172       False   \n",
       "1463  ISIC_0012657_downsampled   -1.894140  MSK4_0011173        True   \n",
       "\n",
       "      sex_male  sex_unknown  anatom_site_general_anterior torso  \\\n",
       "1459     False        False                               False   \n",
       "1460     False        False                               False   \n",
       "1461     False        False                               False   \n",
       "1462      True        False                               False   \n",
       "1463     False        False                               False   \n",
       "\n",
       "      anatom_site_general_head/neck  anatom_site_general_lateral torso  \\\n",
       "1459                          False                              False   \n",
       "1460                          False                              False   \n",
       "1461                          False                              False   \n",
       "1462                          False                              False   \n",
       "1463                          False                              False   \n",
       "\n",
       "      anatom_site_general_lower extremity  anatom_site_general_oral/genital  \\\n",
       "1459                                False                             False   \n",
       "1460                                 True                             False   \n",
       "1461                                False                             False   \n",
       "1462                                False                             False   \n",
       "1463                                False                             False   \n",
       "\n",
       "      anatom_site_general_palms/soles  anatom_site_general_posterior torso  \\\n",
       "1459                            False                                 True   \n",
       "1460                            False                                False   \n",
       "1461                            False                                False   \n",
       "1462                            False                                 True   \n",
       "1463                            False                                False   \n",
       "\n",
       "      anatom_site_general_unknown  anatom_site_general_upper extremity  \n",
       "1459                        False                                False  \n",
       "1460                        False                                False  \n",
       "1461                        False                                 True  \n",
       "1462                        False                                False  \n",
       "1463                        False                                 True  "
      ]
     },
     "execution_count": 54,
     "metadata": {},
     "output_type": "execute_result"
    }
   ],
   "source": [
    "# Convert 'sex' and 'anatom_site_general' to one-hot encoded variables\n",
    "metadata_clean = pd.get_dummies(metadata_clean, columns=['sex', 'anatom_site_general'])\n",
    "metadata_clean.head()\n"
   ]
  },
  {
   "cell_type": "markdown",
   "id": "9a100037",
   "metadata": {},
   "source": [
    "## Save as csv"
   ]
  },
  {
   "cell_type": "code",
   "execution_count": 55,
   "id": "1c18505a",
   "metadata": {
    "ExecuteTime": {
     "end_time": "2025-06-16T00:27:57.444877Z",
     "start_time": "2025-06-16T00:27:57.382033Z"
    }
   },
   "outputs": [],
   "source": [
    "metadata_clean.to_csv('cleaned_data/ISIC_2019_Training_Metadata_Cleaned.csv', index=False)"
   ]
  }
 ],
 "metadata": {
  "kernelspec": {
   "display_name": "venv",
   "language": "python",
   "name": "python3"
  },
  "language_info": {
   "codemirror_mode": {
    "name": "ipython",
    "version": 3
   },
   "file_extension": ".py",
   "mimetype": "text/x-python",
   "name": "python",
   "nbconvert_exporter": "python",
   "pygments_lexer": "ipython3",
   "version": "3.13.4"
  }
 },
 "nbformat": 4,
 "nbformat_minor": 5
}

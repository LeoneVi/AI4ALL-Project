{
 "cells": [
  {
   "metadata": {},
   "cell_type": "markdown",
   "source": "## Import Packages",
   "id": "d1ea31c4f29bd5c5"
  },
  {
   "metadata": {
    "ExecuteTime": {
     "end_time": "2025-06-08T22:54:26.978818Z",
     "start_time": "2025-06-08T22:54:26.500955Z"
    }
   },
   "cell_type": "code",
   "source": [
    "import kagglehub\n",
    "import numpy as np\n",
    "import pandas as pd\n",
    "import os"
   ],
   "id": "fbc121e30a2defb3",
   "outputs": [],
   "execution_count": 1
  },
  {
   "metadata": {},
   "cell_type": "markdown",
   "source": "## Load the dataset",
   "id": "41647eceee4eaa9c"
  },
  {
   "metadata": {
    "ExecuteTime": {
     "end_time": "2025-06-08T22:54:27.079917Z",
     "start_time": "2025-06-08T22:54:27.058853Z"
    }
   },
   "cell_type": "code",
   "source": [
    "metadata_df = pd.read_csv('data/andrewmvd/isic-2019/versions/1/ISIC_2019_Training_Metadata.csv')\n",
    "\n",
    "\n",
    "print(\"ISIC_2019_Training_Metadata.csv\")\n",
    "print(metadata_df.head(),\"\\n\")\n",
    "print(\"Number of rows in MetaData CSV:\", len(metadata_df))"
   ],
   "id": "c6c99ba3b14bf69d",
   "outputs": [
    {
     "name": "stdout",
     "output_type": "stream",
     "text": [
      "ISIC_2019_Training_Metadata.csv\n",
      "          image  age_approx anatom_site_general lesion_id     sex\n",
      "0  ISIC_0000000        55.0      anterior torso       NaN  female\n",
      "1  ISIC_0000001        30.0      anterior torso       NaN  female\n",
      "2  ISIC_0000002        60.0     upper extremity       NaN  female\n",
      "3  ISIC_0000003        30.0     upper extremity       NaN    male\n",
      "4  ISIC_0000004        80.0     posterior torso       NaN    male \n",
      "\n",
      "Number of rows in MetaData CSV: 25331\n"
     ]
    }
   ],
   "execution_count": 2
  },
  {
   "metadata": {
    "ExecuteTime": {
     "end_time": "2025-06-08T22:54:27.092217Z",
     "start_time": "2025-06-08T22:54:27.090764Z"
    }
   },
   "cell_type": "code",
   "source": "",
   "id": "6d22159116282992",
   "outputs": [],
   "execution_count": null
  }
 ],
 "metadata": {
  "kernelspec": {
   "display_name": "Python 3",
   "language": "python",
   "name": "python3"
  },
  "language_info": {
   "codemirror_mode": {
    "name": "ipython",
    "version": 2
   },
   "file_extension": ".py",
   "mimetype": "text/x-python",
   "name": "python",
   "nbconvert_exporter": "python",
   "pygments_lexer": "ipython2",
   "version": "2.7.6"
  }
 },
 "nbformat": 4,
 "nbformat_minor": 5
}

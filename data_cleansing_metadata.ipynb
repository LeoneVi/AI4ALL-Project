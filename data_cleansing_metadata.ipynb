{
 "cells": [
  {
   "cell_type": "markdown",
   "id": "d1ea31c4f29bd5c5",
   "metadata": {},
   "source": [
    "## Import Packages"
   ]
  },
  {
   "cell_type": "code",
   "execution_count": 7,
   "id": "fbc121e30a2defb3",
   "metadata": {
    "ExecuteTime": {
     "end_time": "2025-06-16T00:27:40.292791Z",
     "start_time": "2025-06-16T00:27:40.290040Z"
    }
   },
   "outputs": [],
   "source": [
    "import kagglehub\n",
    "import numpy as np\n",
    "import pandas as pd\n",
    "import os\n",
    "\n",
    "from sklearn.preprocessing import StandardScaler\n"
   ]
  },
  {
   "cell_type": "markdown",
   "id": "41647eceee4eaa9c",
   "metadata": {},
   "source": [
    "## Load the dataset"
   ]
  },
  {
   "cell_type": "code",
   "execution_count": 8,
   "id": "c6c99ba3b14bf69d",
   "metadata": {
    "ExecuteTime": {
     "end_time": "2025-06-16T00:27:42.262955Z",
     "start_time": "2025-06-16T00:27:42.238856Z"
    }
   },
   "outputs": [
    {
     "name": "stdout",
     "output_type": "stream",
     "text": [
      "ISIC_2019_Training_Metadata.csv\n",
      "          image  age_approx anatom_site_general lesion_id     sex\n",
      "0  ISIC_0000000        55.0      anterior torso       NaN  female\n",
      "1  ISIC_0000001        30.0      anterior torso       NaN  female\n",
      "2  ISIC_0000002        60.0     upper extremity       NaN  female\n",
      "3  ISIC_0000003        30.0     upper extremity       NaN    male\n",
      "4  ISIC_0000004        80.0     posterior torso       NaN    male \n",
      "\n",
      "Number of rows in MetaData CSV: 25331\n"
     ]
    }
   ],
   "source": [
    "metadata_df = pd.read_csv('data/andrewmvd/isic-2019/versions/1/ISIC_2019_Training_Metadata.csv')\n",
    "\n",
    "\n",
    "print(\"ISIC_2019_Training_Metadata.csv\")\n",
    "print(metadata_df.head(),\"\\n\")\n",
    "print(\"Number of rows in MetaData CSV:\", len(metadata_df))"
   ]
  },
  {
   "cell_type": "code",
   "execution_count": 9,
   "id": "6d22159116282992",
   "metadata": {
    "ExecuteTime": {
     "end_time": "2025-06-16T00:27:43.825577Z",
     "start_time": "2025-06-16T00:27:43.819852Z"
    }
   },
   "outputs": [
    {
     "name": "stdout",
     "output_type": "stream",
     "text": [
      "image                     0\n",
      "age_approx              437\n",
      "anatom_site_general    2631\n",
      "lesion_id              2084\n",
      "sex                     384\n",
      "dtype: int64\n"
     ]
    }
   ],
   "source": [
    "print(metadata_df.isnull().sum())"
   ]
  },
  {
   "cell_type": "code",
   "execution_count": 10,
   "id": "564016b2",
   "metadata": {
    "ExecuteTime": {
     "end_time": "2025-06-16T00:27:44.954433Z",
     "start_time": "2025-06-16T00:27:44.947567Z"
    }
   },
   "outputs": [
    {
     "name": "stdout",
     "output_type": "stream",
     "text": [
      "<class 'pandas.core.frame.DataFrame'>\n",
      "RangeIndex: 25331 entries, 0 to 25330\n",
      "Data columns (total 5 columns):\n",
      " #   Column               Non-Null Count  Dtype  \n",
      "---  ------               --------------  -----  \n",
      " 0   image                25331 non-null  object \n",
      " 1   age_approx           24894 non-null  float64\n",
      " 2   anatom_site_general  22700 non-null  object \n",
      " 3   lesion_id            23247 non-null  object \n",
      " 4   sex                  24947 non-null  object \n",
      "dtypes: float64(1), object(4)\n",
      "memory usage: 989.6+ KB\n"
     ]
    }
   ],
   "source": [
    "metadata_df.info()\n"
   ]
  },
  {
   "cell_type": "code",
   "execution_count": 11,
   "id": "19a5c3a3",
   "metadata": {
    "ExecuteTime": {
     "end_time": "2025-06-16T00:27:46.253204Z",
     "start_time": "2025-06-16T00:27:46.250086Z"
    }
   },
   "outputs": [],
   "source": [
    "metadata_clean = metadata_df.copy()"
   ]
  },
  {
   "cell_type": "markdown",
   "id": "47640775",
   "metadata": {},
   "source": [
    "## Cleaning the data"
   ]
  },
  {
   "cell_type": "code",
   "execution_count": 12,
   "id": "22f7159f",
   "metadata": {
    "ExecuteTime": {
     "end_time": "2025-06-16T00:27:47.346943Z",
     "start_time": "2025-06-16T00:27:47.342604Z"
    }
   },
   "outputs": [
    {
     "data": {
      "text/plain": [
       "np.int64(0)"
      ]
     },
     "execution_count": 12,
     "metadata": {},
     "output_type": "execute_result"
    }
   ],
   "source": [
    "metadata_clean['image'].duplicated().sum()\n"
   ]
  },
  {
   "cell_type": "code",
   "execution_count": 13,
   "id": "148573ab",
   "metadata": {
    "ExecuteTime": {
     "end_time": "2025-06-16T00:27:48.528720Z",
     "start_time": "2025-06-16T00:27:48.523380Z"
    }
   },
   "outputs": [],
   "source": [
    "\n",
    "# Fill missing values in 'anatom_site_general' with 'unknown'\n",
    "metadata_clean['anatom_site_general'] = metadata_clean['anatom_site_general'].fillna('unknown')\n",
    "# Convert 'anatom_site_general' to categorical type\n",
    "\n",
    "metadata_clean['anatom_site_general'] = metadata_clean['anatom_site_general'].astype('category')"
   ]
  },
  {
   "cell_type": "code",
   "execution_count": 14,
   "id": "dc58b0db",
   "metadata": {
    "ExecuteTime": {
     "end_time": "2025-06-16T00:27:49.338348Z",
     "start_time": "2025-06-16T00:27:49.333415Z"
    }
   },
   "outputs": [],
   "source": [
    "# Fill missing values in 'age_approx' with the median age\n",
    "median_age = metadata_clean['age_approx'].median()\n",
    "metadata_clean['age_approx'] = metadata_clean['age_approx'].fillna(median_age)\n",
    "# Standardize 'age_approx' using StandardScaler\n",
    "scaler = StandardScaler()\n",
    "metadata_clean['age_approx'] = scaler.fit_transform(metadata_clean[['age_approx']])"
   ]
  },
  {
   "cell_type": "code",
   "execution_count": 15,
   "id": "6fd71af1",
   "metadata": {
    "ExecuteTime": {
     "end_time": "2025-06-16T00:27:50.948316Z",
     "start_time": "2025-06-16T00:27:50.941204Z"
    }
   },
   "outputs": [],
   "source": [
    "# Check for duplicates in 'lesion_id'\n",
    "lesion_counts = metadata_clean['lesion_id'].value_counts()\n",
    "# Identify lesions with multiple images\n",
    "duplicates = lesion_counts[lesion_counts > 1]\n",
    "len(duplicates)\n",
    "#Fill missing values in 'lesion_id' with 'unknown'\n",
    "metadata_clean['lesion_id'] = metadata_clean['lesion_id'].fillna('unknown')\n"
   ]
  },
  {
   "cell_type": "code",
   "execution_count": 16,
   "id": "16c1eb57",
   "metadata": {
    "ExecuteTime": {
     "end_time": "2025-06-16T00:27:51.948628Z",
     "start_time": "2025-06-16T00:27:51.945097Z"
    }
   },
   "outputs": [],
   "source": [
    "# Fill missing values in 'sex' with 'unknown'\n",
    "metadata_clean['sex'] = metadata_clean['sex'].fillna('unknown')\n"
   ]
  },
  {
   "cell_type": "code",
   "execution_count": 17,
   "id": "aa793927",
   "metadata": {
    "ExecuteTime": {
     "end_time": "2025-06-16T00:27:53.074886Z",
     "start_time": "2025-06-16T00:27:53.069443Z"
    }
   },
   "outputs": [
    {
     "name": "stdout",
     "output_type": "stream",
     "text": [
      "image                  0\n",
      "age_approx             0\n",
      "anatom_site_general    0\n",
      "lesion_id              0\n",
      "sex                    0\n",
      "dtype: int64\n"
     ]
    }
   ],
   "source": [
    "print(metadata_clean.isnull().sum())\n"
   ]
  },
  {
   "cell_type": "code",
   "execution_count": 18,
   "id": "47cc6839",
   "metadata": {
    "ExecuteTime": {
     "end_time": "2025-06-16T00:27:54.104688Z",
     "start_time": "2025-06-16T00:27:54.098145Z"
    }
   },
   "outputs": [
    {
     "name": "stdout",
     "output_type": "stream",
     "text": [
      "<class 'pandas.core.frame.DataFrame'>\n",
      "RangeIndex: 25331 entries, 0 to 25330\n",
      "Data columns (total 5 columns):\n",
      " #   Column               Non-Null Count  Dtype   \n",
      "---  ------               --------------  -----   \n",
      " 0   image                25331 non-null  object  \n",
      " 1   age_approx           25331 non-null  float64 \n",
      " 2   anatom_site_general  25331 non-null  category\n",
      " 3   lesion_id            25331 non-null  object  \n",
      " 4   sex                  25331 non-null  object  \n",
      "dtypes: category(1), float64(1), object(3)\n",
      "memory usage: 816.8+ KB\n"
     ]
    }
   ],
   "source": [
    "metadata_clean.info()"
   ]
  },
  {
   "cell_type": "code",
   "execution_count": 19,
   "id": "d432f325",
   "metadata": {
    "ExecuteTime": {
     "end_time": "2025-06-16T00:27:55.435154Z",
     "start_time": "2025-06-16T00:27:55.424369Z"
    }
   },
   "outputs": [
    {
     "data": {
      "text/html": [
       "<div>\n",
       "<style scoped>\n",
       "    .dataframe tbody tr th:only-of-type {\n",
       "        vertical-align: middle;\n",
       "    }\n",
       "\n",
       "    .dataframe tbody tr th {\n",
       "        vertical-align: top;\n",
       "    }\n",
       "\n",
       "    .dataframe thead th {\n",
       "        text-align: right;\n",
       "    }\n",
       "</style>\n",
       "<table border=\"1\" class=\"dataframe\">\n",
       "  <thead>\n",
       "    <tr style=\"text-align: right;\">\n",
       "      <th></th>\n",
       "      <th>image</th>\n",
       "      <th>age_approx</th>\n",
       "      <th>lesion_id</th>\n",
       "      <th>sex_female</th>\n",
       "      <th>sex_male</th>\n",
       "      <th>sex_unknown</th>\n",
       "      <th>anatom_site_general_anterior torso</th>\n",
       "      <th>anatom_site_general_head/neck</th>\n",
       "      <th>anatom_site_general_lateral torso</th>\n",
       "      <th>anatom_site_general_lower extremity</th>\n",
       "      <th>anatom_site_general_oral/genital</th>\n",
       "      <th>anatom_site_general_palms/soles</th>\n",
       "      <th>anatom_site_general_posterior torso</th>\n",
       "      <th>anatom_site_general_unknown</th>\n",
       "      <th>anatom_site_general_upper extremity</th>\n",
       "    </tr>\n",
       "  </thead>\n",
       "  <tbody>\n",
       "    <tr>\n",
       "      <th>0</th>\n",
       "      <td>ISIC_0000000</td>\n",
       "      <td>0.053119</td>\n",
       "      <td>unknown</td>\n",
       "      <td>True</td>\n",
       "      <td>False</td>\n",
       "      <td>False</td>\n",
       "      <td>True</td>\n",
       "      <td>False</td>\n",
       "      <td>False</td>\n",
       "      <td>False</td>\n",
       "      <td>False</td>\n",
       "      <td>False</td>\n",
       "      <td>False</td>\n",
       "      <td>False</td>\n",
       "      <td>False</td>\n",
       "    </tr>\n",
       "    <tr>\n",
       "      <th>1</th>\n",
       "      <td>ISIC_0000001</td>\n",
       "      <td>-1.337780</td>\n",
       "      <td>unknown</td>\n",
       "      <td>True</td>\n",
       "      <td>False</td>\n",
       "      <td>False</td>\n",
       "      <td>True</td>\n",
       "      <td>False</td>\n",
       "      <td>False</td>\n",
       "      <td>False</td>\n",
       "      <td>False</td>\n",
       "      <td>False</td>\n",
       "      <td>False</td>\n",
       "      <td>False</td>\n",
       "      <td>False</td>\n",
       "    </tr>\n",
       "    <tr>\n",
       "      <th>2</th>\n",
       "      <td>ISIC_0000002</td>\n",
       "      <td>0.331299</td>\n",
       "      <td>unknown</td>\n",
       "      <td>True</td>\n",
       "      <td>False</td>\n",
       "      <td>False</td>\n",
       "      <td>False</td>\n",
       "      <td>False</td>\n",
       "      <td>False</td>\n",
       "      <td>False</td>\n",
       "      <td>False</td>\n",
       "      <td>False</td>\n",
       "      <td>False</td>\n",
       "      <td>False</td>\n",
       "      <td>True</td>\n",
       "    </tr>\n",
       "    <tr>\n",
       "      <th>3</th>\n",
       "      <td>ISIC_0000003</td>\n",
       "      <td>-1.337780</td>\n",
       "      <td>unknown</td>\n",
       "      <td>False</td>\n",
       "      <td>True</td>\n",
       "      <td>False</td>\n",
       "      <td>False</td>\n",
       "      <td>False</td>\n",
       "      <td>False</td>\n",
       "      <td>False</td>\n",
       "      <td>False</td>\n",
       "      <td>False</td>\n",
       "      <td>False</td>\n",
       "      <td>False</td>\n",
       "      <td>True</td>\n",
       "    </tr>\n",
       "    <tr>\n",
       "      <th>4</th>\n",
       "      <td>ISIC_0000004</td>\n",
       "      <td>1.444018</td>\n",
       "      <td>unknown</td>\n",
       "      <td>False</td>\n",
       "      <td>True</td>\n",
       "      <td>False</td>\n",
       "      <td>False</td>\n",
       "      <td>False</td>\n",
       "      <td>False</td>\n",
       "      <td>False</td>\n",
       "      <td>False</td>\n",
       "      <td>False</td>\n",
       "      <td>True</td>\n",
       "      <td>False</td>\n",
       "      <td>False</td>\n",
       "    </tr>\n",
       "  </tbody>\n",
       "</table>\n",
       "</div>"
      ],
      "text/plain": [
       "          image  age_approx lesion_id  sex_female  sex_male  sex_unknown  \\\n",
       "0  ISIC_0000000    0.053119   unknown        True     False        False   \n",
       "1  ISIC_0000001   -1.337780   unknown        True     False        False   \n",
       "2  ISIC_0000002    0.331299   unknown        True     False        False   \n",
       "3  ISIC_0000003   -1.337780   unknown       False      True        False   \n",
       "4  ISIC_0000004    1.444018   unknown       False      True        False   \n",
       "\n",
       "   anatom_site_general_anterior torso  anatom_site_general_head/neck  \\\n",
       "0                                True                          False   \n",
       "1                                True                          False   \n",
       "2                               False                          False   \n",
       "3                               False                          False   \n",
       "4                               False                          False   \n",
       "\n",
       "   anatom_site_general_lateral torso  anatom_site_general_lower extremity  \\\n",
       "0                              False                                False   \n",
       "1                              False                                False   \n",
       "2                              False                                False   \n",
       "3                              False                                False   \n",
       "4                              False                                False   \n",
       "\n",
       "   anatom_site_general_oral/genital  anatom_site_general_palms/soles  \\\n",
       "0                             False                            False   \n",
       "1                             False                            False   \n",
       "2                             False                            False   \n",
       "3                             False                            False   \n",
       "4                             False                            False   \n",
       "\n",
       "   anatom_site_general_posterior torso  anatom_site_general_unknown  \\\n",
       "0                                False                        False   \n",
       "1                                False                        False   \n",
       "2                                False                        False   \n",
       "3                                False                        False   \n",
       "4                                 True                        False   \n",
       "\n",
       "   anatom_site_general_upper extremity  \n",
       "0                                False  \n",
       "1                                False  \n",
       "2                                 True  \n",
       "3                                 True  \n",
       "4                                False  "
      ]
     },
     "execution_count": 19,
     "metadata": {},
     "output_type": "execute_result"
    }
   ],
   "source": [
    "# Convert 'sex' and 'anatom_site_general' to one-hot encoded variables\n",
    "metadata_clean = pd.get_dummies(metadata_clean, columns=['sex', 'anatom_site_general'])\n",
    "metadata_clean.head()\n"
   ]
  },
  {
   "cell_type": "code",
   "execution_count": 22,
   "id": "c8a22ba5",
   "metadata": {},
   "outputs": [
    {
     "name": "stdout",
     "output_type": "stream",
     "text": [
      "<class 'pandas.core.frame.DataFrame'>\n",
      "Index: 23247 entries, 1459 to 25330\n",
      "Data columns (total 15 columns):\n",
      " #   Column                               Non-Null Count  Dtype  \n",
      "---  ------                               --------------  -----  \n",
      " 0   image                                23247 non-null  object \n",
      " 1   age_approx                           23247 non-null  float64\n",
      " 2   lesion_id                            23247 non-null  object \n",
      " 3   sex_female                           23247 non-null  bool   \n",
      " 4   sex_male                             23247 non-null  bool   \n",
      " 5   sex_unknown                          23247 non-null  bool   \n",
      " 6   anatom_site_general_anterior torso   23247 non-null  bool   \n",
      " 7   anatom_site_general_head/neck        23247 non-null  bool   \n",
      " 8   anatom_site_general_lateral torso    23247 non-null  bool   \n",
      " 9   anatom_site_general_lower extremity  23247 non-null  bool   \n",
      " 10  anatom_site_general_oral/genital     23247 non-null  bool   \n",
      " 11  anatom_site_general_palms/soles      23247 non-null  bool   \n",
      " 12  anatom_site_general_posterior torso  23247 non-null  bool   \n",
      " 13  anatom_site_general_unknown          23247 non-null  bool   \n",
      " 14  anatom_site_general_upper extremity  23247 non-null  bool   \n",
      "dtypes: bool(12), float64(1), object(2)\n",
      "memory usage: 998.9+ KB\n"
     ]
    }
   ],
   "source": [
    "metadata_clean_final = metadata_clean[metadata_clean['lesion_id'] != 'unknown'].copy()\n",
    "metadata_clean_final.info()"
   ]
  },
  {
   "cell_type": "markdown",
   "id": "9a100037",
   "metadata": {},
   "source": [
    "## Save as csv"
   ]
  },
  {
   "cell_type": "code",
   "execution_count": 23,
   "id": "1c18505a",
   "metadata": {
    "ExecuteTime": {
     "end_time": "2025-06-16T00:27:57.444877Z",
     "start_time": "2025-06-16T00:27:57.382033Z"
    }
   },
   "outputs": [],
   "source": [
    "metadata_clean_final.to_csv('cleaned_data/ISIC_2019_Training_Metadata_Cleaned.csv', index=False)"
   ]
  },
  {
   "cell_type": "code",
   "execution_count": null,
   "id": "b588df02",
   "metadata": {},
   "outputs": [],
   "source": []
  }
 ],
 "metadata": {
  "kernelspec": {
   "display_name": "Python 3",
   "language": "python",
   "name": "python3"
  },
  "language_info": {
   "codemirror_mode": {
    "name": "ipython",
    "version": 3
   },
   "file_extension": ".py",
   "mimetype": "text/x-python",
   "name": "python",
   "nbconvert_exporter": "python",
   "pygments_lexer": "ipython3",
   "version": "3.13.4"
  }
 },
 "nbformat": 4,
 "nbformat_minor": 5
}

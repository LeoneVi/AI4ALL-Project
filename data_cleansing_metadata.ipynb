{
 "cells": [
  {
   "cell_type": "markdown",
   "id": "d1ea31c4f29bd5c5",
   "metadata": {},
   "source": [
    "## Import Packages"
   ]
  },
  {
   "cell_type": "code",
   "execution_count": 41,
   "id": "fbc121e30a2defb3",
   "metadata": {
    "ExecuteTime": {
     "end_time": "2025-06-16T00:27:40.292791Z",
     "start_time": "2025-06-16T00:27:40.290040Z"
    }
   },
   "outputs": [],
   "source": [
    "import kagglehub\n",
    "import numpy as np\n",
    "import pandas as pd\n",
    "import os\n",
    "\n",
    "from sklearn.preprocessing import StandardScaler\n"
   ]
  },
  {
   "cell_type": "markdown",
   "id": "41647eceee4eaa9c",
   "metadata": {},
   "source": [
    "## Load the dataset"
   ]
  },
  {
   "cell_type": "code",
   "execution_count": 42,
   "id": "c6c99ba3b14bf69d",
   "metadata": {
    "ExecuteTime": {
     "end_time": "2025-06-16T00:27:42.262955Z",
     "start_time": "2025-06-16T00:27:42.238856Z"
    }
   },
   "outputs": [
    {
     "name": "stdout",
     "output_type": "stream",
     "text": [
      "ISIC_2019_Training_Metadata.csv\n",
      "          image  age_approx anatom_site_general lesion_id     sex\n",
      "0  ISIC_0000000        55.0      anterior torso       NaN  female\n",
      "1  ISIC_0000001        30.0      anterior torso       NaN  female\n",
      "2  ISIC_0000002        60.0     upper extremity       NaN  female\n",
      "3  ISIC_0000003        30.0     upper extremity       NaN    male\n",
      "4  ISIC_0000004        80.0     posterior torso       NaN    male \n",
      "\n",
      "Number of rows in MetaData CSV: 25331\n"
     ]
    }
   ],
   "source": [
    "metadata_df = pd.read_csv('data/andrewmvd/isic-2019/versions/1/ISIC_2019_Training_Metadata.csv')\n",
    "\n",
    "\n",
    "print(\"ISIC_2019_Training_Metadata.csv\")\n",
    "print(metadata_df.head(),\"\\n\")\n",
    "print(\"Number of rows in MetaData CSV:\", len(metadata_df))"
   ]
  },
  {
   "cell_type": "code",
   "execution_count": 43,
   "id": "6d22159116282992",
   "metadata": {
    "ExecuteTime": {
     "end_time": "2025-06-16T00:27:43.825577Z",
     "start_time": "2025-06-16T00:27:43.819852Z"
    }
   },
   "outputs": [
    {
     "name": "stdout",
     "output_type": "stream",
     "text": [
      "image                     0\n",
      "age_approx              437\n",
      "anatom_site_general    2631\n",
      "lesion_id              2084\n",
      "sex                     384\n",
      "dtype: int64\n"
     ]
    }
   ],
   "source": [
    "print(metadata_df.isnull().sum())"
   ]
  },
  {
   "cell_type": "code",
   "execution_count": 44,
   "id": "564016b2",
   "metadata": {
    "ExecuteTime": {
     "end_time": "2025-06-16T00:27:44.954433Z",
     "start_time": "2025-06-16T00:27:44.947567Z"
    }
   },
   "outputs": [
    {
     "name": "stdout",
     "output_type": "stream",
     "text": [
      "<class 'pandas.core.frame.DataFrame'>\n",
      "RangeIndex: 25331 entries, 0 to 25330\n",
      "Data columns (total 5 columns):\n",
      " #   Column               Non-Null Count  Dtype  \n",
      "---  ------               --------------  -----  \n",
      " 0   image                25331 non-null  object \n",
      " 1   age_approx           24894 non-null  float64\n",
      " 2   anatom_site_general  22700 non-null  object \n",
      " 3   lesion_id            23247 non-null  object \n",
      " 4   sex                  24947 non-null  object \n",
      "dtypes: float64(1), object(4)\n",
      "memory usage: 989.6+ KB\n"
     ]
    }
   ],
   "source": [
    "metadata_df.info()\n"
   ]
  },
  {
   "cell_type": "code",
   "execution_count": 45,
   "id": "19a5c3a3",
   "metadata": {
    "ExecuteTime": {
     "end_time": "2025-06-16T00:27:46.253204Z",
     "start_time": "2025-06-16T00:27:46.250086Z"
    }
   },
   "outputs": [],
   "source": [
    "metadata_clean = metadata_df.copy()"
   ]
  },
  {
   "cell_type": "markdown",
   "id": "47640775",
   "metadata": {},
   "source": [
    "## Cleaning the data"
   ]
  },
  {
   "cell_type": "code",
   "execution_count": 46,
   "id": "22f7159f",
   "metadata": {
    "ExecuteTime": {
     "end_time": "2025-06-16T00:27:47.346943Z",
     "start_time": "2025-06-16T00:27:47.342604Z"
    }
   },
   "outputs": [
    {
     "data": {
      "text/plain": [
       "np.int64(0)"
      ]
     },
     "execution_count": 46,
     "metadata": {},
     "output_type": "execute_result"
    }
   ],
   "source": [
    "metadata_clean['image'].duplicated().sum()\n"
   ]
  },
  {
   "cell_type": "code",
   "execution_count": 47,
   "id": "148573ab",
   "metadata": {
    "ExecuteTime": {
     "end_time": "2025-06-16T00:27:48.528720Z",
     "start_time": "2025-06-16T00:27:48.523380Z"
    }
   },
   "outputs": [],
   "source": [
    "\n",
    "# Fill missing values in 'anatom_site_general' with 'unknown'\n",
    "metadata_clean['anatom_site_general'] = metadata_clean['anatom_site_general'].fillna('unknown')\n",
    "# Convert 'anatom_site_general' to categorical type\n",
    "\n",
    "metadata_clean['anatom_site_general'] = metadata_clean['anatom_site_general'].astype('category')"
   ]
  },
  {
   "cell_type": "code",
   "execution_count": 48,
   "id": "dc58b0db",
   "metadata": {
    "ExecuteTime": {
     "end_time": "2025-06-16T00:27:49.338348Z",
     "start_time": "2025-06-16T00:27:49.333415Z"
    }
   },
   "outputs": [],
   "source": [
    "# Fill missing values in 'age_approx' with the median age\n",
    "median_age = metadata_clean['age_approx'].median()\n",
    "metadata_clean['age_approx'] = metadata_clean['age_approx'].fillna(median_age)\n",
    "# Standardize 'age_approx' using StandardScaler\n",
    "scaler = StandardScaler()\n",
    "metadata_clean['age_approx'] = scaler.fit_transform(metadata_clean[['age_approx']])"
   ]
  },
  {
   "cell_type": "code",
   "execution_count": 49,
   "id": "1ed842a0",
   "metadata": {},
   "outputs": [
    {
     "name": "stdout",
     "output_type": "stream",
     "text": [
      "Removing images with missing lesion_id: ['ISIC_0000000', 'ISIC_0000001', 'ISIC_0000002', 'ISIC_0000003', 'ISIC_0000004', 'ISIC_0000006', 'ISIC_0000007', 'ISIC_0000008', 'ISIC_0000009', 'ISIC_0000010', 'ISIC_0000011', 'ISIC_0000012', 'ISIC_0000013', 'ISIC_0000014', 'ISIC_0000015', 'ISIC_0000016', 'ISIC_0000017_downsampled', 'ISIC_0000018_downsampled', 'ISIC_0000019_downsampled', 'ISIC_0000020_downsampled', 'ISIC_0000021_downsampled', 'ISIC_0000022_downsampled', 'ISIC_0000023_downsampled', 'ISIC_0000024_downsampled', 'ISIC_0000025_downsampled', 'ISIC_0000026_downsampled', 'ISIC_0000027_downsampled', 'ISIC_0000028_downsampled', 'ISIC_0000029_downsampled', 'ISIC_0000030_downsampled', 'ISIC_0000031_downsampled', 'ISIC_0000032_downsampled', 'ISIC_0000034_downsampled', 'ISIC_0000035_downsampled', 'ISIC_0000036_downsampled', 'ISIC_0000037_downsampled', 'ISIC_0000038_downsampled', 'ISIC_0000039_downsampled', 'ISIC_0000040_downsampled', 'ISIC_0000041_downsampled', 'ISIC_0000042_downsampled', 'ISIC_0000043_downsampled', 'ISIC_0000044_downsampled', 'ISIC_0000045_downsampled', 'ISIC_0000046_downsampled', 'ISIC_0000047_downsampled', 'ISIC_0000048_downsampled', 'ISIC_0000049_downsampled', 'ISIC_0000050_downsampled', 'ISIC_0000051_downsampled', 'ISIC_0000052_downsampled', 'ISIC_0000053_downsampled', 'ISIC_0000054_downsampled', 'ISIC_0000055_downsampled', 'ISIC_0000056_downsampled', 'ISIC_0000057_downsampled', 'ISIC_0000058_downsampled', 'ISIC_0000059_downsampled', 'ISIC_0000060_downsampled', 'ISIC_0000061_downsampled', 'ISIC_0000062_downsampled', 'ISIC_0000063_downsampled', 'ISIC_0000064_downsampled', 'ISIC_0000065_downsampled', 'ISIC_0000066', 'ISIC_0000067', 'ISIC_0000068', 'ISIC_0000069', 'ISIC_0000071', 'ISIC_0000072', 'ISIC_0000073', 'ISIC_0000074', 'ISIC_0000075', 'ISIC_0000077_downsampled', 'ISIC_0000078_downsampled', 'ISIC_0000079_downsampled', 'ISIC_0000080_downsampled', 'ISIC_0000081_downsampled', 'ISIC_0000082_downsampled', 'ISIC_0000085_downsampled', 'ISIC_0000086_downsampled', 'ISIC_0000087_downsampled', 'ISIC_0000088_downsampled', 'ISIC_0000089_downsampled', 'ISIC_0000091_downsampled', 'ISIC_0000092_downsampled', 'ISIC_0000093_downsampled', 'ISIC_0000094_downsampled', 'ISIC_0000095_downsampled', 'ISIC_0000096_downsampled', 'ISIC_0000097_downsampled', 'ISIC_0000098_downsampled', 'ISIC_0000099_downsampled', 'ISIC_0000100_downsampled', 'ISIC_0000101_downsampled', 'ISIC_0000102_downsampled', 'ISIC_0000103_downsampled', 'ISIC_0000104_downsampled', 'ISIC_0000105_downsampled', 'ISIC_0000107_downsampled', 'ISIC_0000108_downsampled', 'ISIC_0000109_downsampled', 'ISIC_0000110_downsampled', 'ISIC_0000111_downsampled', 'ISIC_0000112_downsampled', 'ISIC_0000113_downsampled', 'ISIC_0000114_downsampled', 'ISIC_0000115_downsampled', 'ISIC_0000116_downsampled', 'ISIC_0000117_downsampled', 'ISIC_0000118_downsampled', 'ISIC_0000119_downsampled', 'ISIC_0000120_downsampled', 'ISIC_0000121_downsampled', 'ISIC_0000122_downsampled', 'ISIC_0000123_downsampled', 'ISIC_0000124_downsampled', 'ISIC_0000125_downsampled', 'ISIC_0000126_downsampled', 'ISIC_0000127_downsampled', 'ISIC_0000128_downsampled', 'ISIC_0000129_downsampled', 'ISIC_0000130_downsampled', 'ISIC_0000131_downsampled', 'ISIC_0000132_downsampled', 'ISIC_0000133_downsampled', 'ISIC_0000134_downsampled', 'ISIC_0000135_downsampled', 'ISIC_0000136_downsampled', 'ISIC_0000137_downsampled', 'ISIC_0000138_downsampled', 'ISIC_0000139_downsampled', 'ISIC_0000140_downsampled', 'ISIC_0000141_downsampled', 'ISIC_0000142_downsampled', 'ISIC_0000143_downsampled', 'ISIC_0000145_downsampled', 'ISIC_0000146_downsampled', 'ISIC_0000147_downsampled', 'ISIC_0000148_downsampled', 'ISIC_0000149_downsampled', 'ISIC_0000150_downsampled', 'ISIC_0000151_downsampled', 'ISIC_0000152_downsampled', 'ISIC_0000153_downsampled', 'ISIC_0000154_downsampled', 'ISIC_0000155_downsampled', 'ISIC_0000156_downsampled', 'ISIC_0000157', 'ISIC_0000159', 'ISIC_0000160', 'ISIC_0000161', 'ISIC_0000162', 'ISIC_0000163', 'ISIC_0000164', 'ISIC_0000165', 'ISIC_0000166', 'ISIC_0000167', 'ISIC_0000169', 'ISIC_0000170', 'ISIC_0000171', 'ISIC_0000172', 'ISIC_0000173', 'ISIC_0000174', 'ISIC_0000175', 'ISIC_0000176_downsampled', 'ISIC_0000177_downsampled', 'ISIC_0000179_downsampled', 'ISIC_0000181_downsampled', 'ISIC_0000182_downsampled', 'ISIC_0000183_downsampled', 'ISIC_0000184_downsampled', 'ISIC_0000185_downsampled', 'ISIC_0000186_downsampled', 'ISIC_0000187', 'ISIC_0000188_downsampled', 'ISIC_0000189_downsampled', 'ISIC_0000190', 'ISIC_0000191_downsampled', 'ISIC_0000192_downsampled', 'ISIC_0000193_downsampled', 'ISIC_0000195_downsampled', 'ISIC_0000196_downsampled', 'ISIC_0000197_downsampled', 'ISIC_0000198', 'ISIC_0000199', 'ISIC_0000200', 'ISIC_0000201_downsampled', 'ISIC_0000202_downsampled', 'ISIC_0000203_downsampled', 'ISIC_0000204_downsampled', 'ISIC_0000205_downsampled', 'ISIC_0000206_downsampled', 'ISIC_0000207_downsampled', 'ISIC_0000208_downsampled', 'ISIC_0000209', 'ISIC_0000210', 'ISIC_0000211', 'ISIC_0000212', 'ISIC_0000213', 'ISIC_0000214', 'ISIC_0000215', 'ISIC_0000216', 'ISIC_0000217', 'ISIC_0000218_downsampled', 'ISIC_0000219', 'ISIC_0000220', 'ISIC_0000221', 'ISIC_0000222', 'ISIC_0000223', 'ISIC_0000224', 'ISIC_0000225', 'ISIC_0000226', 'ISIC_0000227', 'ISIC_0000228', 'ISIC_0000229', 'ISIC_0000230', 'ISIC_0000231', 'ISIC_0000232', 'ISIC_0000233', 'ISIC_0000234', 'ISIC_0000235', 'ISIC_0000236', 'ISIC_0000237', 'ISIC_0000239', 'ISIC_0000240', 'ISIC_0000242', 'ISIC_0000243', 'ISIC_0000244', 'ISIC_0000245', 'ISIC_0000246', 'ISIC_0000247', 'ISIC_0000249', 'ISIC_0000250', 'ISIC_0000251', 'ISIC_0000252', 'ISIC_0000253', 'ISIC_0000254', 'ISIC_0000255', 'ISIC_0000256', 'ISIC_0000258', 'ISIC_0000259', 'ISIC_0000260', 'ISIC_0000261', 'ISIC_0000262', 'ISIC_0000263', 'ISIC_0000264', 'ISIC_0000265', 'ISIC_0000268', 'ISIC_0000269', 'ISIC_0000271', 'ISIC_0000274', 'ISIC_0000275', 'ISIC_0000276', 'ISIC_0000277', 'ISIC_0000278', 'ISIC_0000279', 'ISIC_0000281', 'ISIC_0000282', 'ISIC_0000283', 'ISIC_0000285', 'ISIC_0000287', 'ISIC_0000288', 'ISIC_0000289', 'ISIC_0000290', 'ISIC_0000292', 'ISIC_0000293', 'ISIC_0000294', 'ISIC_0000295', 'ISIC_0000297', 'ISIC_0000298', 'ISIC_0000299', 'ISIC_0000300', 'ISIC_0000301', 'ISIC_0000302', 'ISIC_0000303', 'ISIC_0000306', 'ISIC_0000307', 'ISIC_0000310', 'ISIC_0000311', 'ISIC_0000313', 'ISIC_0000314', 'ISIC_0000315', 'ISIC_0000316', 'ISIC_0000317', 'ISIC_0000319', 'ISIC_0000320', 'ISIC_0000321', 'ISIC_0000322', 'ISIC_0000323', 'ISIC_0000324', 'ISIC_0000325', 'ISIC_0000326', 'ISIC_0000327', 'ISIC_0000328', 'ISIC_0000329', 'ISIC_0000330', 'ISIC_0000331', 'ISIC_0000332', 'ISIC_0000333', 'ISIC_0000336', 'ISIC_0000337', 'ISIC_0000338', 'ISIC_0000339', 'ISIC_0000340', 'ISIC_0000341', 'ISIC_0000342', 'ISIC_0000343', 'ISIC_0000344', 'ISIC_0000345', 'ISIC_0000346', 'ISIC_0000347', 'ISIC_0000348', 'ISIC_0000349', 'ISIC_0000350', 'ISIC_0000351', 'ISIC_0000352', 'ISIC_0000353', 'ISIC_0000354', 'ISIC_0000355', 'ISIC_0000357', 'ISIC_0000358', 'ISIC_0000359', 'ISIC_0000360', 'ISIC_0000361', 'ISIC_0000363', 'ISIC_0000364', 'ISIC_0000365', 'ISIC_0000366', 'ISIC_0000367', 'ISIC_0000368', 'ISIC_0000369', 'ISIC_0000370', 'ISIC_0000371', 'ISIC_0000372', 'ISIC_0000374', 'ISIC_0000376_downsampled', 'ISIC_0000377_downsampled', 'ISIC_0000378_downsampled', 'ISIC_0000379_downsampled', 'ISIC_0000380_downsampled', 'ISIC_0000381_downsampled', 'ISIC_0000382_downsampled', 'ISIC_0000383_downsampled', 'ISIC_0000384_downsampled', 'ISIC_0000385_downsampled', 'ISIC_0000386_downsampled', 'ISIC_0000387_downsampled', 'ISIC_0000388_downsampled', 'ISIC_0000390_downsampled', 'ISIC_0000391_downsampled', 'ISIC_0000392_downsampled', 'ISIC_0000393_downsampled', 'ISIC_0000395_downsampled', 'ISIC_0000396_downsampled', 'ISIC_0000397_downsampled', 'ISIC_0000403_downsampled', 'ISIC_0000407_downsampled', 'ISIC_0000408_downsampled', 'ISIC_0000409_downsampled', 'ISIC_0000410_downsampled', 'ISIC_0000412_downsampled', 'ISIC_0000413_downsampled', 'ISIC_0000415_downsampled', 'ISIC_0000416_downsampled', 'ISIC_0000418_downsampled', 'ISIC_0000419_downsampled', 'ISIC_0000420_downsampled', 'ISIC_0000421_downsampled', 'ISIC_0000423_downsampled', 'ISIC_0000425_downsampled', 'ISIC_0000426_downsampled', 'ISIC_0000427_downsampled', 'ISIC_0000431_downsampled', 'ISIC_0000433_downsampled', 'ISIC_0000434_downsampled', 'ISIC_0000436_downsampled', 'ISIC_0000439_downsampled', 'ISIC_0000442_downsampled', 'ISIC_0000443_downsampled', 'ISIC_0000444_downsampled', 'ISIC_0000445_downsampled', 'ISIC_0000447_downsampled', 'ISIC_0000448_downsampled', 'ISIC_0000449_downsampled', 'ISIC_0000451_downsampled', 'ISIC_0000452_downsampled', 'ISIC_0000453_downsampled', 'ISIC_0000455_downsampled', 'ISIC_0000456_downsampled', 'ISIC_0000457_downsampled', 'ISIC_0000458', 'ISIC_0000460', 'ISIC_0000461', 'ISIC_0000463_downsampled', 'ISIC_0000465', 'ISIC_0000466', 'ISIC_0000467', 'ISIC_0000468', 'ISIC_0000469', 'ISIC_0000470', 'ISIC_0000471', 'ISIC_0000473_downsampled', 'ISIC_0000474', 'ISIC_0000475', 'ISIC_0000476', 'ISIC_0000477', 'ISIC_0000478', 'ISIC_0000479', 'ISIC_0000480', 'ISIC_0000481', 'ISIC_0000482', 'ISIC_0000483', 'ISIC_0000484', 'ISIC_0000485', 'ISIC_0000486', 'ISIC_0000487', 'ISIC_0000488', 'ISIC_0000489', 'ISIC_0000490', 'ISIC_0000491', 'ISIC_0000492', 'ISIC_0000493', 'ISIC_0000494', 'ISIC_0000495', 'ISIC_0000496', 'ISIC_0000498', 'ISIC_0000499', 'ISIC_0000500', 'ISIC_0000501', 'ISIC_0000503', 'ISIC_0000504_downsampled', 'ISIC_0000505', 'ISIC_0000506', 'ISIC_0000507', 'ISIC_0000508', 'ISIC_0000509', 'ISIC_0000510', 'ISIC_0000511', 'ISIC_0000513', 'ISIC_0000514', 'ISIC_0000515', 'ISIC_0000516', 'ISIC_0000517', 'ISIC_0000518', 'ISIC_0000519_downsampled', 'ISIC_0000520_downsampled', 'ISIC_0000521_downsampled', 'ISIC_0000522', 'ISIC_0000523', 'ISIC_0000524', 'ISIC_0000525', 'ISIC_0000527', 'ISIC_0000528', 'ISIC_0000529_downsampled', 'ISIC_0000530', 'ISIC_0000531', 'ISIC_0000532', 'ISIC_0000533', 'ISIC_0000534', 'ISIC_0000535', 'ISIC_0000536', 'ISIC_0000537', 'ISIC_0000538', 'ISIC_0000539', 'ISIC_0000540', 'ISIC_0000541', 'ISIC_0000542', 'ISIC_0000543', 'ISIC_0000544', 'ISIC_0000545', 'ISIC_0000546', 'ISIC_0000547', 'ISIC_0000548', 'ISIC_0000549', 'ISIC_0000550', 'ISIC_0000551', 'ISIC_0000552', 'ISIC_0000554', 'ISIC_0000555', 'ISIC_0000556', 'ISIC_0000882_downsampled', 'ISIC_0000900_downsampled', 'ISIC_0000999_downsampled', 'ISIC_0001100_downsampled', 'ISIC_0001102_downsampled', 'ISIC_0001103_downsampled', 'ISIC_0001105_downsampled', 'ISIC_0001106_downsampled', 'ISIC_0001118_downsampled', 'ISIC_0001119_downsampled', 'ISIC_0001126_downsampled', 'ISIC_0001128_downsampled', 'ISIC_0001131_downsampled', 'ISIC_0001133_downsampled', 'ISIC_0001134_downsampled', 'ISIC_0001140_downsampled', 'ISIC_0001142_downsampled', 'ISIC_0001148_downsampled', 'ISIC_0001152_downsampled', 'ISIC_0001163_downsampled', 'ISIC_0001181_downsampled', 'ISIC_0001184_downsampled', 'ISIC_0001185_downsampled', 'ISIC_0001186_downsampled', 'ISIC_0001187_downsampled', 'ISIC_0001188_downsampled', 'ISIC_0001190_downsampled', 'ISIC_0001191_downsampled', 'ISIC_0001204_downsampled', 'ISIC_0001212_downsampled', 'ISIC_0001213_downsampled', 'ISIC_0001216_downsampled', 'ISIC_0001242_downsampled', 'ISIC_0001247_downsampled', 'ISIC_0001254_downsampled', 'ISIC_0001262_downsampled', 'ISIC_0001267_downsampled', 'ISIC_0001275_downsampled', 'ISIC_0001286_downsampled', 'ISIC_0001292_downsampled', 'ISIC_0001296_downsampled', 'ISIC_0001299_downsampled', 'ISIC_0001306_downsampled', 'ISIC_0001367_downsampled', 'ISIC_0001372_downsampled', 'ISIC_0001374_downsampled', 'ISIC_0001385_downsampled', 'ISIC_0001423_downsampled', 'ISIC_0001427_downsampled', 'ISIC_0001442_downsampled', 'ISIC_0001449_downsampled', 'ISIC_0001769_downsampled', 'ISIC_0001852_downsampled', 'ISIC_0001871_downsampled', 'ISIC_0001960_downsampled', 'ISIC_0002093_downsampled', 'ISIC_0002107_downsampled', 'ISIC_0002206_downsampled', 'ISIC_0002246_downsampled', 'ISIC_0002251_downsampled', 'ISIC_0002287_downsampled', 'ISIC_0002353_downsampled', 'ISIC_0002374_downsampled', 'ISIC_0002438_downsampled', 'ISIC_0002439_downsampled', 'ISIC_0002453_downsampled', 'ISIC_0002459_downsampled', 'ISIC_0002469_downsampled', 'ISIC_0002476_downsampled', 'ISIC_0002488_downsampled', 'ISIC_0002489_downsampled', 'ISIC_0002616_downsampled', 'ISIC_0002647_downsampled', 'ISIC_0002673_downsampled', 'ISIC_0002780_downsampled', 'ISIC_0002806_downsampled', 'ISIC_0002829_downsampled', 'ISIC_0002836_downsampled', 'ISIC_0002871_downsampled', 'ISIC_0002879_downsampled', 'ISIC_0002885_downsampled', 'ISIC_0002948_downsampled', 'ISIC_0002975_downsampled', 'ISIC_0002976_downsampled', 'ISIC_0003005_downsampled', 'ISIC_0003051_downsampled', 'ISIC_0003056_downsampled', 'ISIC_0003174_downsampled', 'ISIC_0003308_downsampled', 'ISIC_0003346_downsampled', 'ISIC_0003462_downsampled', 'ISIC_0003539_downsampled', 'ISIC_0003559_downsampled', 'ISIC_0003582_downsampled', 'ISIC_0003657_downsampled', 'ISIC_0003728_downsampled', 'ISIC_0003805_downsampled', 'ISIC_0004110_downsampled', 'ISIC_0004115_downsampled', 'ISIC_0004166_downsampled', 'ISIC_0004168_downsampled', 'ISIC_0004309_downsampled', 'ISIC_0004337_downsampled', 'ISIC_0004346_downsampled', 'ISIC_0004715_downsampled', 'ISIC_0004985_downsampled', 'ISIC_0005000_downsampled', 'ISIC_0005187_downsampled', 'ISIC_0005247_downsampled', 'ISIC_0005548_downsampled', 'ISIC_0005555_downsampled', 'ISIC_0005564_downsampled', 'ISIC_0005620_downsampled', 'ISIC_0005639_downsampled', 'ISIC_0005666_downsampled', 'ISIC_0005787_downsampled', 'ISIC_0006021_downsampled', 'ISIC_0006114_downsampled', 'ISIC_0006193_downsampled', 'ISIC_0006326_downsampled', 'ISIC_0006350_downsampled', 'ISIC_0006612_downsampled', 'ISIC_0006651_downsampled', 'ISIC_0006671_downsampled', 'ISIC_0006711_downsampled', 'ISIC_0006776_downsampled', 'ISIC_0006795_downsampled', 'ISIC_0006800_downsampled', 'ISIC_0006815_downsampled', 'ISIC_0006914_downsampled', 'ISIC_0006940_downsampled', 'ISIC_0006982_downsampled', 'ISIC_0007038_downsampled', 'ISIC_0007087_downsampled', 'ISIC_0007141_downsampled', 'ISIC_0007156_downsampled', 'ISIC_0007235_downsampled', 'ISIC_0007241_downsampled', 'ISIC_0007322_downsampled', 'ISIC_0007332_downsampled', 'ISIC_0007344_downsampled', 'ISIC_0007475_downsampled', 'ISIC_0007528_downsampled', 'ISIC_0007557_downsampled', 'ISIC_0007693_downsampled', 'ISIC_0007760_downsampled', 'ISIC_0007788_downsampled', 'ISIC_0007796_downsampled', 'ISIC_0008025_downsampled', 'ISIC_0008029_downsampled', 'ISIC_0008116_downsampled', 'ISIC_0008145_downsampled', 'ISIC_0008207_downsampled', 'ISIC_0008236_downsampled', 'ISIC_0008256_downsampled', 'ISIC_0008280_downsampled', 'ISIC_0008294_downsampled', 'ISIC_0008347_downsampled', 'ISIC_0008396_downsampled', 'ISIC_0008403_downsampled', 'ISIC_0008406_downsampled', 'ISIC_0008507_downsampled', 'ISIC_0008524_downsampled', 'ISIC_0008528_downsampled', 'ISIC_0008541_downsampled', 'ISIC_0008552_downsampled', 'ISIC_0008600_downsampled', 'ISIC_0008626_downsampled', 'ISIC_0008659_downsampled', 'ISIC_0008785_downsampled', 'ISIC_0008807_downsampled', 'ISIC_0008879_downsampled', 'ISIC_0008913_downsampled', 'ISIC_0008992_downsampled', 'ISIC_0008993_downsampled', 'ISIC_0008998_downsampled', 'ISIC_0009035_downsampled', 'ISIC_0009078_downsampled', 'ISIC_0009083_downsampled', 'ISIC_0009160_downsampled', 'ISIC_0009165_downsampled', 'ISIC_0009188_downsampled', 'ISIC_0009201_downsampled', 'ISIC_0009252_downsampled', 'ISIC_0009297_downsampled', 'ISIC_0009298_downsampled', 'ISIC_0009344_downsampled', 'ISIC_0009430_downsampled', 'ISIC_0009504_downsampled', 'ISIC_0009505_downsampled', 'ISIC_0009533_downsampled', 'ISIC_0009564_downsampled', 'ISIC_0009583_downsampled', 'ISIC_0009599_downsampled', 'ISIC_0009758_downsampled', 'ISIC_0009800_downsampled', 'ISIC_0009860_downsampled', 'ISIC_0009868', 'ISIC_0009869', 'ISIC_0009870', 'ISIC_0009871', 'ISIC_0009872', 'ISIC_0009873', 'ISIC_0009874', 'ISIC_0009875', 'ISIC_0009877', 'ISIC_0009879', 'ISIC_0009880', 'ISIC_0009881', 'ISIC_0009882', 'ISIC_0009883', 'ISIC_0009884', 'ISIC_0009885', 'ISIC_0009888', 'ISIC_0009889', 'ISIC_0009891', 'ISIC_0009895', 'ISIC_0009896', 'ISIC_0009897', 'ISIC_0009898', 'ISIC_0009899', 'ISIC_0009901', 'ISIC_0009902', 'ISIC_0009904', 'ISIC_0009905', 'ISIC_0009906', 'ISIC_0009909', 'ISIC_0009910', 'ISIC_0009911', 'ISIC_0009912', 'ISIC_0009914', 'ISIC_0009915', 'ISIC_0009917', 'ISIC_0009918', 'ISIC_0009919', 'ISIC_0009920', 'ISIC_0009921', 'ISIC_0009923', 'ISIC_0009925', 'ISIC_0009927', 'ISIC_0009928', 'ISIC_0009929', 'ISIC_0009930', 'ISIC_0009931', 'ISIC_0009932', 'ISIC_0009933', 'ISIC_0009934', 'ISIC_0009935', 'ISIC_0009936', 'ISIC_0009937', 'ISIC_0009938', 'ISIC_0009939', 'ISIC_0009940', 'ISIC_0009941', 'ISIC_0009942', 'ISIC_0009943', 'ISIC_0009944', 'ISIC_0009945', 'ISIC_0009946', 'ISIC_0009947', 'ISIC_0009948', 'ISIC_0009949', 'ISIC_0009950', 'ISIC_0009951', 'ISIC_0009953', 'ISIC_0009954', 'ISIC_0009955', 'ISIC_0009956', 'ISIC_0009958', 'ISIC_0009960', 'ISIC_0009961', 'ISIC_0009962', 'ISIC_0009963', 'ISIC_0009964', 'ISIC_0009965', 'ISIC_0009966', 'ISIC_0009967', 'ISIC_0009968', 'ISIC_0009969', 'ISIC_0009970', 'ISIC_0009971', 'ISIC_0009972', 'ISIC_0009973', 'ISIC_0009974', 'ISIC_0009975', 'ISIC_0009976', 'ISIC_0009977', 'ISIC_0009978', 'ISIC_0009979', 'ISIC_0009980', 'ISIC_0009981', 'ISIC_0009982', 'ISIC_0009987', 'ISIC_0009988', 'ISIC_0009990', 'ISIC_0009991', 'ISIC_0009992', 'ISIC_0009993', 'ISIC_0009994', 'ISIC_0009995', 'ISIC_0009998', 'ISIC_0010000', 'ISIC_0010002', 'ISIC_0010003', 'ISIC_0010005', 'ISIC_0010006', 'ISIC_0010009', 'ISIC_0010010', 'ISIC_0010011', 'ISIC_0010013', 'ISIC_0010014', 'ISIC_0010015', 'ISIC_0010016', 'ISIC_0010017', 'ISIC_0010018', 'ISIC_0010019', 'ISIC_0010020', 'ISIC_0010021', 'ISIC_0010022', 'ISIC_0010023', 'ISIC_0010024', 'ISIC_0010025', 'ISIC_0010028', 'ISIC_0010029', 'ISIC_0010032', 'ISIC_0010034', 'ISIC_0010036', 'ISIC_0010037', 'ISIC_0010038', 'ISIC_0010040', 'ISIC_0010041', 'ISIC_0010042', 'ISIC_0010043', 'ISIC_0010044', 'ISIC_0010046', 'ISIC_0010047', 'ISIC_0010051', 'ISIC_0010053', 'ISIC_0010054', 'ISIC_0010055', 'ISIC_0010056', 'ISIC_0010057', 'ISIC_0010058', 'ISIC_0010059', 'ISIC_0010060', 'ISIC_0010061', 'ISIC_0010062', 'ISIC_0010063', 'ISIC_0010064', 'ISIC_0010066', 'ISIC_0010067', 'ISIC_0010069', 'ISIC_0010070', 'ISIC_0010071', 'ISIC_0010073', 'ISIC_0010074', 'ISIC_0010075', 'ISIC_0010077', 'ISIC_0010078', 'ISIC_0010079', 'ISIC_0010080', 'ISIC_0010081', 'ISIC_0010086', 'ISIC_0010087', 'ISIC_0010088', 'ISIC_0010089', 'ISIC_0010090', 'ISIC_0010092', 'ISIC_0010093', 'ISIC_0010094', 'ISIC_0010100', 'ISIC_0010102', 'ISIC_0010104', 'ISIC_0010105', 'ISIC_0010168', 'ISIC_0010169', 'ISIC_0010170', 'ISIC_0010171', 'ISIC_0010173', 'ISIC_0010174', 'ISIC_0010175', 'ISIC_0010176', 'ISIC_0010177', 'ISIC_0010178', 'ISIC_0010180', 'ISIC_0010182', 'ISIC_0010183', 'ISIC_0010184', 'ISIC_0010185', 'ISIC_0010186', 'ISIC_0010187', 'ISIC_0010189', 'ISIC_0010190', 'ISIC_0010191', 'ISIC_0010192', 'ISIC_0010193', 'ISIC_0010194', 'ISIC_0010201', 'ISIC_0010202', 'ISIC_0010204', 'ISIC_0010205', 'ISIC_0010206', 'ISIC_0010207', 'ISIC_0010212', 'ISIC_0010213', 'ISIC_0010215', 'ISIC_0010216', 'ISIC_0010219', 'ISIC_0010220', 'ISIC_0010222', 'ISIC_0010225', 'ISIC_0010226', 'ISIC_0010227', 'ISIC_0010228', 'ISIC_0010229', 'ISIC_0010231', 'ISIC_0010232', 'ISIC_0010233', 'ISIC_0010234', 'ISIC_0010235', 'ISIC_0010236', 'ISIC_0010237', 'ISIC_0010238', 'ISIC_0010239', 'ISIC_0010240', 'ISIC_0010241', 'ISIC_0010244', 'ISIC_0010246', 'ISIC_0010247', 'ISIC_0010248', 'ISIC_0010249', 'ISIC_0010251', 'ISIC_0010252', 'ISIC_0010254', 'ISIC_0010255', 'ISIC_0010256', 'ISIC_0010257', 'ISIC_0010261', 'ISIC_0010262', 'ISIC_0010263', 'ISIC_0010264', 'ISIC_0010265', 'ISIC_0010267', 'ISIC_0010317', 'ISIC_0010318', 'ISIC_0010319', 'ISIC_0010320', 'ISIC_0010321', 'ISIC_0010322', 'ISIC_0010323', 'ISIC_0010326', 'ISIC_0010327', 'ISIC_0010329', 'ISIC_0010330', 'ISIC_0010332', 'ISIC_0010333', 'ISIC_0010334', 'ISIC_0010335', 'ISIC_0010336', 'ISIC_0010337', 'ISIC_0010339', 'ISIC_0010340', 'ISIC_0010341', 'ISIC_0010342', 'ISIC_0010344', 'ISIC_0010346', 'ISIC_0010347', 'ISIC_0010348', 'ISIC_0010349', 'ISIC_0010350', 'ISIC_0010351', 'ISIC_0010356', 'ISIC_0010357', 'ISIC_0010358', 'ISIC_0010360', 'ISIC_0010361', 'ISIC_0010362', 'ISIC_0010364', 'ISIC_0010365', 'ISIC_0010367', 'ISIC_0010368', 'ISIC_0010370', 'ISIC_0010371', 'ISIC_0010372', 'ISIC_0010374', 'ISIC_0010379', 'ISIC_0010380', 'ISIC_0010382', 'ISIC_0010435', 'ISIC_0010439', 'ISIC_0010440', 'ISIC_0010441', 'ISIC_0010442', 'ISIC_0010443', 'ISIC_0010444', 'ISIC_0010445', 'ISIC_0010447', 'ISIC_0010448', 'ISIC_0010449', 'ISIC_0010452', 'ISIC_0010455', 'ISIC_0010456', 'ISIC_0010457', 'ISIC_0010458', 'ISIC_0010459', 'ISIC_0010460', 'ISIC_0010461', 'ISIC_0010462', 'ISIC_0010463', 'ISIC_0010465', 'ISIC_0010466', 'ISIC_0010467', 'ISIC_0010468', 'ISIC_0010471', 'ISIC_0010472', 'ISIC_0010473', 'ISIC_0010474', 'ISIC_0010475', 'ISIC_0010476', 'ISIC_0010477', 'ISIC_0010479', 'ISIC_0010480', 'ISIC_0010481', 'ISIC_0010483', 'ISIC_0010487', 'ISIC_0010488', 'ISIC_0010490', 'ISIC_0010491', 'ISIC_0010492', 'ISIC_0010493', 'ISIC_0010494', 'ISIC_0010496', 'ISIC_0010497', 'ISIC_0010498', 'ISIC_0010552', 'ISIC_0010553', 'ISIC_0010554', 'ISIC_0010557', 'ISIC_0010558', 'ISIC_0010562', 'ISIC_0010565', 'ISIC_0010566', 'ISIC_0010567', 'ISIC_0010568', 'ISIC_0010569', 'ISIC_0010570', 'ISIC_0010571', 'ISIC_0010572', 'ISIC_0010573', 'ISIC_0010574', 'ISIC_0010575', 'ISIC_0010576', 'ISIC_0010581', 'ISIC_0010582', 'ISIC_0010584', 'ISIC_0010585', 'ISIC_0010586', 'ISIC_0010587', 'ISIC_0010588', 'ISIC_0010589', 'ISIC_0010590', 'ISIC_0010591', 'ISIC_0010592', 'ISIC_0010593', 'ISIC_0010595', 'ISIC_0010596', 'ISIC_0010597', 'ISIC_0010598', 'ISIC_0010599', 'ISIC_0010602', 'ISIC_0010603', 'ISIC_0010604', 'ISIC_0010605', 'ISIC_0010606', 'ISIC_0010607', 'ISIC_0010844', 'ISIC_0010846', 'ISIC_0010847', 'ISIC_0010848', 'ISIC_0010849', 'ISIC_0010850', 'ISIC_0010851', 'ISIC_0010852', 'ISIC_0010853', 'ISIC_0010854', 'ISIC_0010856', 'ISIC_0010857', 'ISIC_0010858', 'ISIC_0010860', 'ISIC_0010861', 'ISIC_0010862', 'ISIC_0010863', 'ISIC_0010864', 'ISIC_0011079', 'ISIC_0011081', 'ISIC_0011082', 'ISIC_0011083', 'ISIC_0011084', 'ISIC_0011085', 'ISIC_0011088', 'ISIC_0011089', 'ISIC_0011090', 'ISIC_0011092', 'ISIC_0011095', 'ISIC_0011097', 'ISIC_0011098', 'ISIC_0011099', 'ISIC_0011100', 'ISIC_0011101', 'ISIC_0011102', 'ISIC_0011104', 'ISIC_0011105', 'ISIC_0011107', 'ISIC_0011109', 'ISIC_0011110', 'ISIC_0011112', 'ISIC_0011114', 'ISIC_0011115', 'ISIC_0011117', 'ISIC_0011118', 'ISIC_0011119', 'ISIC_0011120', 'ISIC_0011121', 'ISIC_0011123', 'ISIC_0011124', 'ISIC_0011125', 'ISIC_0011126', 'ISIC_0011127', 'ISIC_0011128', 'ISIC_0011129', 'ISIC_0011130', 'ISIC_0011131', 'ISIC_0011132', 'ISIC_0011135', 'ISIC_0011136', 'ISIC_0011137', 'ISIC_0011139', 'ISIC_0011140', 'ISIC_0011143', 'ISIC_0011144', 'ISIC_0011145', 'ISIC_0011146', 'ISIC_0011149', 'ISIC_0011150', 'ISIC_0011151', 'ISIC_0011155', 'ISIC_0011156', 'ISIC_0011157', 'ISIC_0011158', 'ISIC_0011159', 'ISIC_0011161', 'ISIC_0011162', 'ISIC_0011163', 'ISIC_0011164', 'ISIC_0011165', 'ISIC_0011166', 'ISIC_0011167', 'ISIC_0011168', 'ISIC_0011169', 'ISIC_0011170', 'ISIC_0011171', 'ISIC_0011173', 'ISIC_0011176', 'ISIC_0011177', 'ISIC_0011199', 'ISIC_0011200', 'ISIC_0011202', 'ISIC_0011203', 'ISIC_0011204', 'ISIC_0011205', 'ISIC_0011207', 'ISIC_0011208', 'ISIC_0011210', 'ISIC_0011211', 'ISIC_0011212', 'ISIC_0011213', 'ISIC_0011214', 'ISIC_0011215', 'ISIC_0011217', 'ISIC_0011218', 'ISIC_0011219', 'ISIC_0011220', 'ISIC_0011223', 'ISIC_0011224', 'ISIC_0011225', 'ISIC_0011227', 'ISIC_0011228', 'ISIC_0011229', 'ISIC_0011230', 'ISIC_0011292', 'ISIC_0011294', 'ISIC_0011295', 'ISIC_0011296', 'ISIC_0011297', 'ISIC_0011298', 'ISIC_0011300', 'ISIC_0011301', 'ISIC_0011303', 'ISIC_0011304', 'ISIC_0011305', 'ISIC_0011306', 'ISIC_0011310', 'ISIC_0011315', 'ISIC_0011317', 'ISIC_0011321', 'ISIC_0011322', 'ISIC_0011323', 'ISIC_0011324', 'ISIC_0011326', 'ISIC_0011327', 'ISIC_0011328', 'ISIC_0011329', 'ISIC_0011330', 'ISIC_0011333', 'ISIC_0011334', 'ISIC_0011336', 'ISIC_0011338', 'ISIC_0011339', 'ISIC_0011341', 'ISIC_0011343', 'ISIC_0011344', 'ISIC_0011345', 'ISIC_0011347', 'ISIC_0011348', 'ISIC_0011349', 'ISIC_0011350', 'ISIC_0011352', 'ISIC_0011353', 'ISIC_0011356', 'ISIC_0011357', 'ISIC_0011358', 'ISIC_0011359', 'ISIC_0011360', 'ISIC_0011361', 'ISIC_0011362', 'ISIC_0011363', 'ISIC_0011366', 'ISIC_0011367', 'ISIC_0011372', 'ISIC_0011373', 'ISIC_0011374', 'ISIC_0011378', 'ISIC_0011382', 'ISIC_0011383', 'ISIC_0011384', 'ISIC_0011385', 'ISIC_0011386', 'ISIC_0011387', 'ISIC_0011390', 'ISIC_0011393', 'ISIC_0011397', 'ISIC_0011398', 'ISIC_0011402', 'ISIC_0012086_downsampled', 'ISIC_0012089_downsampled', 'ISIC_0012090_downsampled', 'ISIC_0012092_downsampled', 'ISIC_0012094_downsampled', 'ISIC_0012095_downsampled', 'ISIC_0012097_downsampled', 'ISIC_0012099_downsampled', 'ISIC_0012102_downsampled', 'ISIC_0012103_downsampled', 'ISIC_0012105_downsampled', 'ISIC_0012107_downsampled', 'ISIC_0012108_downsampled', 'ISIC_0012109_downsampled', 'ISIC_0012116_downsampled', 'ISIC_0012117_downsampled', 'ISIC_0012118_downsampled', 'ISIC_0012126_downsampled', 'ISIC_0012127_downsampled', 'ISIC_0012134_downsampled', 'ISIC_0012135_downsampled', 'ISIC_0012136_downsampled', 'ISIC_0012137_downsampled', 'ISIC_0012141_downsampled', 'ISIC_0012143_downsampled', 'ISIC_0012147_downsampled', 'ISIC_0012148_downsampled', 'ISIC_0012149_downsampled', 'ISIC_0012150_downsampled', 'ISIC_0012151_downsampled', 'ISIC_0012152_downsampled', 'ISIC_0012155_downsampled', 'ISIC_0012156_downsampled', 'ISIC_0012159_downsampled', 'ISIC_0012160_downsampled', 'ISIC_0012164_downsampled', 'ISIC_0012167_downsampled', 'ISIC_0012170_downsampled', 'ISIC_0012172_downsampled', 'ISIC_0012173_downsampled', 'ISIC_0012175_downsampled', 'ISIC_0012177_downsampled', 'ISIC_0012178_downsampled', 'ISIC_0012179_downsampled', 'ISIC_0012182_downsampled', 'ISIC_0012183_downsampled', 'ISIC_0012187_downsampled', 'ISIC_0012191_downsampled', 'ISIC_0012199_downsampled', 'ISIC_0012201_downsampled', 'ISIC_0012203_downsampled', 'ISIC_0012204_downsampled', 'ISIC_0012205_downsampled', 'ISIC_0012206_downsampled', 'ISIC_0012207_downsampled', 'ISIC_0012208_downsampled', 'ISIC_0012209_downsampled', 'ISIC_0012210_downsampled', 'ISIC_0012211_downsampled', 'ISIC_0012212_downsampled', 'ISIC_0012213_downsampled', 'ISIC_0012214_downsampled', 'ISIC_0012215_downsampled', 'ISIC_0012216_downsampled', 'ISIC_0012217_downsampled', 'ISIC_0012221_downsampled', 'ISIC_0012222_downsampled', 'ISIC_0012223_downsampled', 'ISIC_0012224_downsampled', 'ISIC_0012227_downsampled', 'ISIC_0012228_downsampled', 'ISIC_0012230_downsampled', 'ISIC_0012232_downsampled', 'ISIC_0012233_downsampled', 'ISIC_0012235_downsampled', 'ISIC_0012237_downsampled', 'ISIC_0012238_downsampled', 'ISIC_0012240_downsampled', 'ISIC_0012245_downsampled', 'ISIC_0012246_downsampled', 'ISIC_0012248_downsampled', 'ISIC_0012250_downsampled', 'ISIC_0012253_downsampled', 'ISIC_0012254_downsampled', 'ISIC_0012256_downsampled', 'ISIC_0012257_downsampled', 'ISIC_0012258_downsampled', 'ISIC_0012259_downsampled', 'ISIC_0012260_downsampled', 'ISIC_0012261_downsampled', 'ISIC_0012263_downsampled', 'ISIC_0012265_downsampled', 'ISIC_0012266_downsampled', 'ISIC_0012268_downsampled', 'ISIC_0012271_downsampled', 'ISIC_0012272_downsampled', 'ISIC_0012273_downsampled', 'ISIC_0012274_downsampled', 'ISIC_0012278_downsampled', 'ISIC_0012281_downsampled', 'ISIC_0012282_downsampled', 'ISIC_0012284_downsampled', 'ISIC_0012285_downsampled', 'ISIC_0012288_downsampled', 'ISIC_0012290_downsampled', 'ISIC_0012291_downsampled', 'ISIC_0012294_downsampled', 'ISIC_0012298_downsampled', 'ISIC_0012299_downsampled', 'ISIC_0012303_downsampled', 'ISIC_0012306_downsampled', 'ISIC_0012309_downsampled', 'ISIC_0012311_downsampled', 'ISIC_0012313_downsampled', 'ISIC_0012314_downsampled', 'ISIC_0012316_downsampled', 'ISIC_0012318_downsampled', 'ISIC_0012320_downsampled', 'ISIC_0012322_downsampled', 'ISIC_0012323_downsampled', 'ISIC_0012324_downsampled', 'ISIC_0012325_downsampled', 'ISIC_0012329_downsampled', 'ISIC_0012330_downsampled', 'ISIC_0012332_downsampled', 'ISIC_0012333_downsampled', 'ISIC_0012334_downsampled', 'ISIC_0012335_downsampled', 'ISIC_0012338_downsampled', 'ISIC_0012339_downsampled', 'ISIC_0012342_downsampled', 'ISIC_0012348_downsampled', 'ISIC_0012351_downsampled', 'ISIC_0012356_downsampled', 'ISIC_0012357_downsampled', 'ISIC_0012358_downsampled', 'ISIC_0012359_downsampled', 'ISIC_0012360_downsampled', 'ISIC_0012363_downsampled', 'ISIC_0012364_downsampled', 'ISIC_0012369_downsampled', 'ISIC_0012372_downsampled', 'ISIC_0012374_downsampled', 'ISIC_0012375_downsampled', 'ISIC_0012376_downsampled', 'ISIC_0012377_downsampled', 'ISIC_0012378_downsampled', 'ISIC_0012379_downsampled', 'ISIC_0012380_downsampled', 'ISIC_0012381_downsampled', 'ISIC_0012382_downsampled', 'ISIC_0012383_downsampled', 'ISIC_0012384_downsampled', 'ISIC_0012386_downsampled', 'ISIC_0012387_downsampled', 'ISIC_0012388_downsampled', 'ISIC_0012390_downsampled', 'ISIC_0012391_downsampled', 'ISIC_0012395_downsampled', 'ISIC_0012397_downsampled', 'ISIC_0012400_downsampled', 'ISIC_0012406_downsampled', 'ISIC_0012413_downsampled', 'ISIC_0012414_downsampled', 'ISIC_0012415_downsampled', 'ISIC_0012416_downsampled', 'ISIC_0012417_downsampled', 'ISIC_0012425_downsampled', 'ISIC_0012428_downsampled', 'ISIC_0012432_downsampled', 'ISIC_0012433_downsampled', 'ISIC_0012434_downsampled', 'ISIC_0012435_downsampled', 'ISIC_0012442_downsampled', 'ISIC_0012445_downsampled', 'ISIC_0012447_downsampled', 'ISIC_0012448_downsampled', 'ISIC_0012450_downsampled', 'ISIC_0012452_downsampled', 'ISIC_0012453_downsampled', 'ISIC_0012455_downsampled', 'ISIC_0012459_downsampled', 'ISIC_0012460_downsampled', 'ISIC_0012464_downsampled', 'ISIC_0012469_downsampled', 'ISIC_0012473_downsampled', 'ISIC_0012475_downsampled', 'ISIC_0012478_downsampled', 'ISIC_0012481_downsampled', 'ISIC_0012484_downsampled', 'ISIC_0012487_downsampled', 'ISIC_0012489_downsampled', 'ISIC_0012492_downsampled', 'ISIC_0012493_downsampled', 'ISIC_0012494_downsampled', 'ISIC_0012495_downsampled', 'ISIC_0012496_downsampled', 'ISIC_0012501_downsampled', 'ISIC_0012503_downsampled', 'ISIC_0012506_downsampled', 'ISIC_0012508_downsampled', 'ISIC_0012510_downsampled', 'ISIC_0012511_downsampled', 'ISIC_0012512_downsampled', 'ISIC_0012513_downsampled', 'ISIC_0012516_downsampled', 'ISIC_0012517_downsampled', 'ISIC_0012518_downsampled', 'ISIC_0012520_downsampled', 'ISIC_0012521_downsampled', 'ISIC_0012522_downsampled', 'ISIC_0012523_downsampled', 'ISIC_0012526_downsampled', 'ISIC_0012527_downsampled', 'ISIC_0012529_downsampled', 'ISIC_0012537_downsampled', 'ISIC_0012538_downsampled', 'ISIC_0012539_downsampled', 'ISIC_0012543_downsampled', 'ISIC_0012544_downsampled', 'ISIC_0012547_downsampled', 'ISIC_0012548_downsampled', 'ISIC_0012549_downsampled', 'ISIC_0012550_downsampled', 'ISIC_0012551_downsampled', 'ISIC_0014567_downsampled', 'ISIC_0014568_downsampled', 'ISIC_0014569_downsampled', 'ISIC_0014570_downsampled', 'ISIC_0014571_downsampled', 'ISIC_0014572_downsampled', 'ISIC_0014573_downsampled', 'ISIC_0014574_downsampled', 'ISIC_0014575_downsampled', 'ISIC_0014576_downsampled', 'ISIC_0014577_downsampled', 'ISIC_0014578_downsampled', 'ISIC_0014579_downsampled', 'ISIC_0014580_downsampled', 'ISIC_0014581_downsampled', 'ISIC_0014582_downsampled', 'ISIC_0014583_downsampled', 'ISIC_0014585_downsampled', 'ISIC_0014586_downsampled', 'ISIC_0014587_downsampled', 'ISIC_0014588_downsampled', 'ISIC_0014589_downsampled', 'ISIC_0014590_downsampled', 'ISIC_0014591_downsampled', 'ISIC_0014592_downsampled', 'ISIC_0014593_downsampled', 'ISIC_0014594_downsampled', 'ISIC_0014595_downsampled', 'ISIC_0014596_downsampled', 'ISIC_0014597_downsampled', 'ISIC_0014598_downsampled', 'ISIC_0014599_downsampled', 'ISIC_0014600_downsampled', 'ISIC_0014601_downsampled', 'ISIC_0014602_downsampled', 'ISIC_0014603_downsampled', 'ISIC_0014605_downsampled', 'ISIC_0014606_downsampled', 'ISIC_0014607_downsampled', 'ISIC_0014608_downsampled', 'ISIC_0014609_downsampled', 'ISIC_0014610_downsampled', 'ISIC_0014611_downsampled', 'ISIC_0014612_downsampled', 'ISIC_0014613_downsampled', 'ISIC_0014615_downsampled', 'ISIC_0014616_downsampled', 'ISIC_0014617_downsampled', 'ISIC_0014618_downsampled', 'ISIC_0014619_downsampled', 'ISIC_0014620_downsampled', 'ISIC_0014621_downsampled', 'ISIC_0014622_downsampled', 'ISIC_0014623_downsampled', 'ISIC_0014624_downsampled', 'ISIC_0014625_downsampled', 'ISIC_0014626_downsampled', 'ISIC_0014627_downsampled', 'ISIC_0014628_downsampled', 'ISIC_0014629_downsampled', 'ISIC_0014630_downsampled', 'ISIC_0014631_downsampled', 'ISIC_0014632_downsampled', 'ISIC_0014633_downsampled', 'ISIC_0014634_downsampled', 'ISIC_0014635_downsampled', 'ISIC_0014636_downsampled', 'ISIC_0014637_downsampled', 'ISIC_0014638_downsampled', 'ISIC_0014639_downsampled', 'ISIC_0014640_downsampled', 'ISIC_0014641_downsampled', 'ISIC_0014642_downsampled', 'ISIC_0014643_downsampled', 'ISIC_0014644_downsampled', 'ISIC_0014645_downsampled', 'ISIC_0014646_downsampled', 'ISIC_0014647_downsampled', 'ISIC_0014648_downsampled', 'ISIC_0014649_downsampled', 'ISIC_0014650_downsampled', 'ISIC_0014651_downsampled', 'ISIC_0014652_downsampled', 'ISIC_0014653_downsampled', 'ISIC_0014654_downsampled', 'ISIC_0014657_downsampled', 'ISIC_0014658_downsampled', 'ISIC_0014661_downsampled', 'ISIC_0014663_downsampled', 'ISIC_0014664_downsampled', 'ISIC_0014665_downsampled', 'ISIC_0014666_downsampled', 'ISIC_0014667_downsampled', 'ISIC_0014675_downsampled', 'ISIC_0014677_downsampled', 'ISIC_0014680_downsampled', 'ISIC_0014682_downsampled', 'ISIC_0014683_downsampled', 'ISIC_0014684_downsampled', 'ISIC_0014685_downsampled', 'ISIC_0014687_downsampled', 'ISIC_0014688_downsampled', 'ISIC_0014692_downsampled', 'ISIC_0014693_downsampled', 'ISIC_0014694_downsampled', 'ISIC_0014695_downsampled', 'ISIC_0014696_downsampled', 'ISIC_0014697_downsampled', 'ISIC_0014698_downsampled', 'ISIC_0014699_downsampled', 'ISIC_0014702_downsampled', 'ISIC_0014703_downsampled', 'ISIC_0014707_downsampled', 'ISIC_0014708_downsampled', 'ISIC_0014711_downsampled', 'ISIC_0014712_downsampled', 'ISIC_0014713_downsampled', 'ISIC_0014714_downsampled', 'ISIC_0014715_downsampled', 'ISIC_0014716_downsampled', 'ISIC_0014720_downsampled', 'ISIC_0014722_downsampled', 'ISIC_0014723_downsampled', 'ISIC_0014724_downsampled', 'ISIC_0014725_downsampled', 'ISIC_0014726_downsampled', 'ISIC_0014727_downsampled', 'ISIC_0014728_downsampled', 'ISIC_0014729_downsampled', 'ISIC_0014730_downsampled', 'ISIC_0014731_downsampled', 'ISIC_0014735_downsampled', 'ISIC_0014739_downsampled', 'ISIC_0014740_downsampled', 'ISIC_0014742_downsampled', 'ISIC_0014743_downsampled', 'ISIC_0014745_downsampled', 'ISIC_0014746_downsampled', 'ISIC_0014748_downsampled', 'ISIC_0014749_downsampled', 'ISIC_0014753_downsampled', 'ISIC_0014754_downsampled', 'ISIC_0014755_downsampled', 'ISIC_0014760_downsampled', 'ISIC_0014762_downsampled', 'ISIC_0014763_downsampled', 'ISIC_0014765_downsampled', 'ISIC_0014766_downsampled', 'ISIC_0014768_downsampled', 'ISIC_0014769_downsampled', 'ISIC_0014770_downsampled', 'ISIC_0014771_downsampled', 'ISIC_0014772_downsampled', 'ISIC_0014773_downsampled', 'ISIC_0014775_downsampled', 'ISIC_0014778_downsampled', 'ISIC_0014779_downsampled', 'ISIC_0014780_downsampled', 'ISIC_0014782_downsampled', 'ISIC_0014783_downsampled', 'ISIC_0014784_downsampled', 'ISIC_0014785_downsampled', 'ISIC_0014786_downsampled', 'ISIC_0014787_downsampled', 'ISIC_0014788_downsampled', 'ISIC_0014790_downsampled', 'ISIC_0014791_downsampled', 'ISIC_0014792_downsampled', 'ISIC_0014793_downsampled', 'ISIC_0014794_downsampled', 'ISIC_0014795_downsampled', 'ISIC_0014796_downsampled', 'ISIC_0014797_downsampled', 'ISIC_0014798_downsampled', 'ISIC_0014800_downsampled', 'ISIC_0014802_downsampled', 'ISIC_0014803_downsampled', 'ISIC_0014804_downsampled', 'ISIC_0014805_downsampled', 'ISIC_0014806_downsampled', 'ISIC_0014807_downsampled', 'ISIC_0014808_downsampled', 'ISIC_0014809_downsampled', 'ISIC_0014811_downsampled', 'ISIC_0014812_downsampled', 'ISIC_0014814_downsampled', 'ISIC_0014815_downsampled', 'ISIC_0014818_downsampled', 'ISIC_0014819_downsampled', 'ISIC_0014820_downsampled', 'ISIC_0014821_downsampled', 'ISIC_0014822_downsampled', 'ISIC_0014823_downsampled', 'ISIC_0014825_downsampled', 'ISIC_0014826_downsampled', 'ISIC_0014829_downsampled', 'ISIC_0014830_downsampled', 'ISIC_0014831_downsampled', 'ISIC_0014832_downsampled', 'ISIC_0014833_downsampled', 'ISIC_0014834_downsampled', 'ISIC_0014835_downsampled', 'ISIC_0014836_downsampled', 'ISIC_0014838_downsampled', 'ISIC_0014839_downsampled', 'ISIC_0014843_downsampled', 'ISIC_0014844_downsampled', 'ISIC_0014845_downsampled', 'ISIC_0014846_downsampled', 'ISIC_0014848_downsampled', 'ISIC_0014849_downsampled', 'ISIC_0014850_downsampled', 'ISIC_0014851_downsampled', 'ISIC_0014853_downsampled', 'ISIC_0014854_downsampled', 'ISIC_0014855_downsampled', 'ISIC_0014857_downsampled', 'ISIC_0014860_downsampled', 'ISIC_0014862_downsampled', 'ISIC_0014863_downsampled', 'ISIC_0014866_downsampled', 'ISIC_0014867_downsampled', 'ISIC_0014868_downsampled', 'ISIC_0014869_downsampled', 'ISIC_0014872_downsampled', 'ISIC_0014876_downsampled', 'ISIC_0014879_downsampled', 'ISIC_0014883_downsampled', 'ISIC_0014890_downsampled', 'ISIC_0014891_downsampled', 'ISIC_0014897_downsampled', 'ISIC_0014898_downsampled', 'ISIC_0014901_downsampled', 'ISIC_0014903_downsampled', 'ISIC_0014904_downsampled', 'ISIC_0014907_downsampled', 'ISIC_0014908_downsampled', 'ISIC_0014910_downsampled', 'ISIC_0014911_downsampled', 'ISIC_0014912_downsampled', 'ISIC_0014913_downsampled', 'ISIC_0014915_downsampled', 'ISIC_0014919_downsampled', 'ISIC_0014920_downsampled', 'ISIC_0014921_downsampled', 'ISIC_0014922_downsampled', 'ISIC_0014923_downsampled', 'ISIC_0014925_downsampled', 'ISIC_0014926_downsampled', 'ISIC_0014927_downsampled', 'ISIC_0014928_downsampled', 'ISIC_0014929_downsampled', 'ISIC_0014930_downsampled', 'ISIC_0014931_downsampled', 'ISIC_0014932_downsampled', 'ISIC_0014933_downsampled', 'ISIC_0014936_downsampled', 'ISIC_0014937_downsampled', 'ISIC_0014938_downsampled', 'ISIC_0014940_downsampled', 'ISIC_0014941_downsampled', 'ISIC_0014942_downsampled', 'ISIC_0014943_downsampled', 'ISIC_0014944_downsampled', 'ISIC_0014945_downsampled', 'ISIC_0014946_downsampled', 'ISIC_0014947_downsampled', 'ISIC_0014948_downsampled', 'ISIC_0014949_downsampled', 'ISIC_0014951_downsampled', 'ISIC_0014952_downsampled', 'ISIC_0014955_downsampled', 'ISIC_0014956_downsampled', 'ISIC_0014957_downsampled', 'ISIC_0014958_downsampled', 'ISIC_0014959_downsampled', 'ISIC_0014961_downsampled', 'ISIC_0014962_downsampled', 'ISIC_0014963_downsampled', 'ISIC_0014964_downsampled', 'ISIC_0014966_downsampled', 'ISIC_0014968_downsampled', 'ISIC_0014969_downsampled', 'ISIC_0014973_downsampled', 'ISIC_0014974_downsampled', 'ISIC_0014975_downsampled', 'ISIC_0014977_downsampled', 'ISIC_0014979_downsampled', 'ISIC_0014982_downsampled', 'ISIC_0014983_downsampled', 'ISIC_0014985_downsampled', 'ISIC_0014987_downsampled', 'ISIC_0014989_downsampled', 'ISIC_0014992_downsampled', 'ISIC_0014994_downsampled', 'ISIC_0014998_downsampled', 'ISIC_0015002_downsampled', 'ISIC_0015003_downsampled', 'ISIC_0015004_downsampled', 'ISIC_0015005_downsampled', 'ISIC_0015006_downsampled', 'ISIC_0015007_downsampled', 'ISIC_0015008_downsampled', 'ISIC_0015009_downsampled', 'ISIC_0015011_downsampled', 'ISIC_0015013_downsampled', 'ISIC_0015015_downsampled', 'ISIC_0015016_downsampled', 'ISIC_0015018_downsampled', 'ISIC_0015019_downsampled', 'ISIC_0015020_downsampled', 'ISIC_0015021_downsampled', 'ISIC_0015023_downsampled', 'ISIC_0015026_downsampled', 'ISIC_0015030_downsampled', 'ISIC_0015031_downsampled', 'ISIC_0015032_downsampled', 'ISIC_0015034_downsampled', 'ISIC_0015035_downsampled', 'ISIC_0015037_downsampled', 'ISIC_0015038_downsampled', 'ISIC_0015040_downsampled', 'ISIC_0015041_downsampled', 'ISIC_0015043_downsampled', 'ISIC_0015044_downsampled', 'ISIC_0015045_downsampled', 'ISIC_0015046_downsampled', 'ISIC_0015050_downsampled', 'ISIC_0015051_downsampled', 'ISIC_0015056_downsampled', 'ISIC_0015057_downsampled', 'ISIC_0015060_downsampled', 'ISIC_0015062_downsampled', 'ISIC_0015064_downsampled', 'ISIC_0015071_downsampled', 'ISIC_0015078_downsampled', 'ISIC_0015079_downsampled', 'ISIC_0015082_downsampled', 'ISIC_0015089_downsampled', 'ISIC_0015102_downsampled', 'ISIC_0015108_downsampled', 'ISIC_0015109_downsampled', 'ISIC_0015110_downsampled', 'ISIC_0015112_downsampled', 'ISIC_0015113_downsampled', 'ISIC_0015115_downsampled', 'ISIC_0015118_downsampled', 'ISIC_0015119_downsampled', 'ISIC_0015124_downsampled', 'ISIC_0015125_downsampled', 'ISIC_0015127_downsampled', 'ISIC_0015129_downsampled', 'ISIC_0015130_downsampled', 'ISIC_0015132_downsampled', 'ISIC_0015133_downsampled', 'ISIC_0015136_downsampled', 'ISIC_0015139_downsampled', 'ISIC_0015140_downsampled', 'ISIC_0015142_downsampled', 'ISIC_0015144_downsampled', 'ISIC_0015146_downsampled', 'ISIC_0015149_downsampled', 'ISIC_0015150_downsampled', 'ISIC_0015152_downsampled', 'ISIC_0015153_downsampled', 'ISIC_0015155_downsampled', 'ISIC_0015156_downsampled', 'ISIC_0015157_downsampled', 'ISIC_0015158_downsampled', 'ISIC_0015160_downsampled', 'ISIC_0015161_downsampled', 'ISIC_0015163_downsampled', 'ISIC_0015166_downsampled', 'ISIC_0015167_downsampled', 'ISIC_0015168_downsampled', 'ISIC_0015170_downsampled', 'ISIC_0015171_downsampled', 'ISIC_0015173_downsampled', 'ISIC_0015174_downsampled', 'ISIC_0015175_downsampled', 'ISIC_0015176_downsampled', 'ISIC_0015179_downsampled', 'ISIC_0015180_downsampled', 'ISIC_0015181_downsampled', 'ISIC_0015182_downsampled', 'ISIC_0015184_downsampled', 'ISIC_0015185_downsampled', 'ISIC_0015189_downsampled', 'ISIC_0015190_downsampled', 'ISIC_0015193_downsampled', 'ISIC_0015200_downsampled', 'ISIC_0015201_downsampled', 'ISIC_0015202_downsampled', 'ISIC_0015203_downsampled', 'ISIC_0015204_downsampled', 'ISIC_0015206_downsampled', 'ISIC_0015207_downsampled', 'ISIC_0015208_downsampled', 'ISIC_0015211_downsampled', 'ISIC_0015212_downsampled', 'ISIC_0015215_downsampled', 'ISIC_0015216_downsampled', 'ISIC_0015217_downsampled', 'ISIC_0015218_downsampled', 'ISIC_0015219_downsampled', 'ISIC_0015220_downsampled', 'ISIC_0015223_downsampled', 'ISIC_0015224_downsampled', 'ISIC_0015226_downsampled', 'ISIC_0015229_downsampled', 'ISIC_0015232_downsampled', 'ISIC_0015233_downsampled', 'ISIC_0015237_downsampled', 'ISIC_0015241_downsampled', 'ISIC_0015243_downsampled', 'ISIC_0015244_downsampled', 'ISIC_0015245_downsampled', 'ISIC_0015250_downsampled', 'ISIC_0015251_downsampled', 'ISIC_0015254_downsampled', 'ISIC_0015255_downsampled', 'ISIC_0015256_downsampled', 'ISIC_0015258_downsampled', 'ISIC_0015260_downsampled', 'ISIC_0015264_downsampled', 'ISIC_0015270_downsampled', 'ISIC_0015273_downsampled', 'ISIC_0015274_downsampled', 'ISIC_0015276_downsampled', 'ISIC_0015279_downsampled', 'ISIC_0015283_downsampled', 'ISIC_0015284_downsampled', 'ISIC_0015291_downsampled', 'ISIC_0015293_downsampled', 'ISIC_0015295_downsampled', 'ISIC_0015298_downsampled', 'ISIC_0015309_downsampled', 'ISIC_0015310_downsampled', 'ISIC_0015311_downsampled', 'ISIC_0015312_downsampled', 'ISIC_0015313_downsampled', 'ISIC_0015330_downsampled', 'ISIC_0015331_downsampled', 'ISIC_0015347_downsampled', 'ISIC_0015353_downsampled', 'ISIC_0015355_downsampled', 'ISIC_0015357_downsampled', 'ISIC_0015360_downsampled', 'ISIC_0015363_downsampled', 'ISIC_0015364_downsampled', 'ISIC_0015368_downsampled', 'ISIC_0015369_downsampled', 'ISIC_0015372_downsampled', 'ISIC_0015383_downsampled', 'ISIC_0015386_downsampled', 'ISIC_0015390_downsampled', 'ISIC_0015395_downsampled', 'ISIC_0015401_downsampled', 'ISIC_0015403_downsampled', 'ISIC_0015404_downsampled', 'ISIC_0015411_downsampled', 'ISIC_0015412_downsampled', 'ISIC_0015416_downsampled', 'ISIC_0015417_downsampled', 'ISIC_0015418_downsampled', 'ISIC_0015419_downsampled', 'ISIC_0015436_downsampled', 'ISIC_0015440_downsampled', 'ISIC_0015443_downsampled', 'ISIC_0015445_downsampled', 'ISIC_0015447_downsampled', 'ISIC_0015455_downsampled', 'ISIC_0015464_downsampled', 'ISIC_0015466_downsampled', 'ISIC_0015468_downsampled', 'ISIC_0015476_downsampled', 'ISIC_0015481_downsampled', 'ISIC_0015482_downsampled', 'ISIC_0015483_downsampled', 'ISIC_0015485_downsampled', 'ISIC_0015496_downsampled', 'ISIC_0015510_downsampled', 'ISIC_0015526_downsampled', 'ISIC_0015537_downsampled', 'ISIC_0015544_downsampled', 'ISIC_0015559_downsampled', 'ISIC_0015563_downsampled', 'ISIC_0015566_downsampled', 'ISIC_0015568_downsampled', 'ISIC_0015582_downsampled', 'ISIC_0015593_downsampled', 'ISIC_0015603_downsampled', 'ISIC_0015607_downsampled', 'ISIC_0015614_downsampled', 'ISIC_0015617_downsampled', 'ISIC_0015625_downsampled', 'ISIC_0015627_downsampled', 'ISIC_0015631_downsampled', 'ISIC_0015636_downsampled', 'ISIC_0015638_downsampled', 'ISIC_0015641_downsampled', 'ISIC_0015645_downsampled', 'ISIC_0015936_downsampled', 'ISIC_0015937_downsampled', 'ISIC_0015938_downsampled', 'ISIC_0015939_downsampled', 'ISIC_0015940_downsampled', 'ISIC_0015941_downsampled', 'ISIC_0015942_downsampled', 'ISIC_0015943_downsampled', 'ISIC_0015944_downsampled', 'ISIC_0015945_downsampled', 'ISIC_0015946_downsampled', 'ISIC_0015947_downsampled', 'ISIC_0015948_downsampled', 'ISIC_0015949_downsampled', 'ISIC_0015950_downsampled', 'ISIC_0015951_downsampled', 'ISIC_0015952_downsampled', 'ISIC_0015953_downsampled', 'ISIC_0015954_downsampled', 'ISIC_0015955_downsampled', 'ISIC_0015956_downsampled', 'ISIC_0015957_downsampled', 'ISIC_0015958_downsampled', 'ISIC_0015959_downsampled', 'ISIC_0015960_downsampled', 'ISIC_0015961_downsampled', 'ISIC_0015962_downsampled', 'ISIC_0015963_downsampled', 'ISIC_0015964_downsampled', 'ISIC_0015965_downsampled', 'ISIC_0015966_downsampled', 'ISIC_0015967_downsampled', 'ISIC_0015968_downsampled', 'ISIC_0015969_downsampled', 'ISIC_0015971_downsampled', 'ISIC_0015972_downsampled', 'ISIC_0015973_downsampled', 'ISIC_0015974_downsampled', 'ISIC_0015975_downsampled', 'ISIC_0015976_downsampled', 'ISIC_0015978_downsampled', 'ISIC_0015980_downsampled', 'ISIC_0015981_downsampled', 'ISIC_0015983_downsampled', 'ISIC_0015984_downsampled', 'ISIC_0015985_downsampled', 'ISIC_0015986_downsampled', 'ISIC_0015987_downsampled', 'ISIC_0015988_downsampled', 'ISIC_0015989_downsampled', 'ISIC_0015990_downsampled', 'ISIC_0015991_downsampled', 'ISIC_0015992_downsampled', 'ISIC_0015993_downsampled', 'ISIC_0015994_downsampled', 'ISIC_0015995_downsampled', 'ISIC_0015996_downsampled', 'ISIC_0015997_downsampled', 'ISIC_0015998_downsampled', 'ISIC_0015999_downsampled', 'ISIC_0016000_downsampled', 'ISIC_0016003_downsampled', 'ISIC_0016004_downsampled', 'ISIC_0016005_downsampled', 'ISIC_0016006_downsampled', 'ISIC_0016007_downsampled', 'ISIC_0016008_downsampled', 'ISIC_0016009_downsampled', 'ISIC_0016011_downsampled', 'ISIC_0016012_downsampled', 'ISIC_0016013_downsampled', 'ISIC_0016014_downsampled', 'ISIC_0016015_downsampled', 'ISIC_0016016_downsampled', 'ISIC_0016017_downsampled', 'ISIC_0016019_downsampled', 'ISIC_0016022_downsampled', 'ISIC_0016023_downsampled', 'ISIC_0016024_downsampled', 'ISIC_0016025_downsampled', 'ISIC_0016026_downsampled', 'ISIC_0016027_downsampled', 'ISIC_0016028_downsampled', 'ISIC_0016029_downsampled', 'ISIC_0016030_downsampled', 'ISIC_0016031_downsampled', 'ISIC_0016033_downsampled', 'ISIC_0016034_downsampled', 'ISIC_0016035_downsampled', 'ISIC_0016036_downsampled', 'ISIC_0016037_downsampled', 'ISIC_0016038_downsampled', 'ISIC_0016040_downsampled', 'ISIC_0016041_downsampled', 'ISIC_0016042_downsampled', 'ISIC_0016043_downsampled', 'ISIC_0016044_downsampled', 'ISIC_0016045_downsampled', 'ISIC_0016046_downsampled', 'ISIC_0016048_downsampled', 'ISIC_0016049_downsampled', 'ISIC_0016050_downsampled', 'ISIC_0016051_downsampled', 'ISIC_0016052_downsampled', 'ISIC_0016053_downsampled', 'ISIC_0016054_downsampled', 'ISIC_0016055_downsampled', 'ISIC_0016056_downsampled', 'ISIC_0016057_downsampled', 'ISIC_0016058_downsampled', 'ISIC_0016059_downsampled', 'ISIC_0016060_downsampled', 'ISIC_0016061_downsampled', 'ISIC_0016062_downsampled', 'ISIC_0016063_downsampled', 'ISIC_0016064_downsampled', 'ISIC_0016065_downsampled', 'ISIC_0016066_downsampled', 'ISIC_0016068_downsampled', 'ISIC_0016069_downsampled', 'ISIC_0016070_downsampled', 'ISIC_0016071_downsampled', 'ISIC_0016072_downsampled']\n",
      "Number of images with missing lesion_id: 2084\n",
      "Number of rows after cleaning: 23247\n"
     ]
    }
   ],
   "source": [
    "list_of_images_for_removing = metadata_clean[metadata_clean['lesion_id'].isna()]['image'].tolist()\n",
    "print(\"Removing images with missing lesion_id:\", list_of_images_for_removing)\n",
    "print(\"Number of images with missing lesion_id:\", len(list_of_images_for_removing))\n",
    "metadata_clean = metadata_clean.dropna(subset=['lesion_id'])\n",
    "print(\"Number of rows after cleaning:\", len(metadata_clean))\n"
   ]
  },
  {
   "cell_type": "code",
   "execution_count": 50,
   "id": "20b6ad70",
   "metadata": {},
   "outputs": [],
   "source": [
    "with open('to_delete.txt', 'w') as f:\n",
    "    for img in list_of_images_for_removing:\n",
    "        f.write(f\"{img}\\n\")"
   ]
  },
  {
   "cell_type": "code",
   "execution_count": 51,
   "id": "16c1eb57",
   "metadata": {
    "ExecuteTime": {
     "end_time": "2025-06-16T00:27:51.948628Z",
     "start_time": "2025-06-16T00:27:51.945097Z"
    }
   },
   "outputs": [],
   "source": [
    "# Fill missing values in 'sex' with 'unknown'\n",
    "metadata_clean['sex'] = metadata_clean['sex'].fillna('unknown')\n"
   ]
  },
  {
   "cell_type": "code",
   "execution_count": 52,
   "id": "aa793927",
   "metadata": {
    "ExecuteTime": {
     "end_time": "2025-06-16T00:27:53.074886Z",
     "start_time": "2025-06-16T00:27:53.069443Z"
    }
   },
   "outputs": [
    {
     "name": "stdout",
     "output_type": "stream",
     "text": [
      "image                  0\n",
      "age_approx             0\n",
      "anatom_site_general    0\n",
      "lesion_id              0\n",
      "sex                    0\n",
      "dtype: int64\n"
     ]
    }
   ],
   "source": [
    "print(metadata_clean.isnull().sum())\n"
   ]
  },
  {
   "cell_type": "code",
   "execution_count": 53,
   "id": "47cc6839",
   "metadata": {
    "ExecuteTime": {
     "end_time": "2025-06-16T00:27:54.104688Z",
     "start_time": "2025-06-16T00:27:54.098145Z"
    }
   },
   "outputs": [
    {
     "name": "stdout",
     "output_type": "stream",
     "text": [
      "<class 'pandas.core.frame.DataFrame'>\n",
      "Index: 23247 entries, 1459 to 25330\n",
      "Data columns (total 5 columns):\n",
      " #   Column               Non-Null Count  Dtype   \n",
      "---  ------               --------------  -----   \n",
      " 0   image                23247 non-null  object  \n",
      " 1   age_approx           23247 non-null  float64 \n",
      " 2   anatom_site_general  23247 non-null  category\n",
      " 3   lesion_id            23247 non-null  object  \n",
      " 4   sex                  23247 non-null  object  \n",
      "dtypes: category(1), float64(1), object(3)\n",
      "memory usage: 931.2+ KB\n"
     ]
    }
   ],
   "source": [
    "metadata_clean.info()"
   ]
  },
  {
   "cell_type": "code",
   "execution_count": 54,
   "id": "d432f325",
   "metadata": {
    "ExecuteTime": {
     "end_time": "2025-06-16T00:27:55.435154Z",
     "start_time": "2025-06-16T00:27:55.424369Z"
    }
   },
   "outputs": [
    {
     "data": {
      "text/html": [
       "<div>\n",
       "<style scoped>\n",
       "    .dataframe tbody tr th:only-of-type {\n",
       "        vertical-align: middle;\n",
       "    }\n",
       "\n",
       "    .dataframe tbody tr th {\n",
       "        vertical-align: top;\n",
       "    }\n",
       "\n",
       "    .dataframe thead th {\n",
       "        text-align: right;\n",
       "    }\n",
       "</style>\n",
       "<table border=\"1\" class=\"dataframe\">\n",
       "  <thead>\n",
       "    <tr style=\"text-align: right;\">\n",
       "      <th></th>\n",
       "      <th>image</th>\n",
       "      <th>age_approx</th>\n",
       "      <th>lesion_id</th>\n",
       "      <th>sex_female</th>\n",
       "      <th>sex_male</th>\n",
       "      <th>sex_unknown</th>\n",
       "      <th>anatom_site_general_anterior torso</th>\n",
       "      <th>anatom_site_general_head/neck</th>\n",
       "      <th>anatom_site_general_lateral torso</th>\n",
       "      <th>anatom_site_general_lower extremity</th>\n",
       "      <th>anatom_site_general_oral/genital</th>\n",
       "      <th>anatom_site_general_palms/soles</th>\n",
       "      <th>anatom_site_general_posterior torso</th>\n",
       "      <th>anatom_site_general_unknown</th>\n",
       "      <th>anatom_site_general_upper extremity</th>\n",
       "    </tr>\n",
       "  </thead>\n",
       "  <tbody>\n",
       "    <tr>\n",
       "      <th>1459</th>\n",
       "      <td>ISIC_0012653_downsampled</td>\n",
       "      <td>-0.225061</td>\n",
       "      <td>MSK4_0011169</td>\n",
       "      <td>True</td>\n",
       "      <td>False</td>\n",
       "      <td>False</td>\n",
       "      <td>False</td>\n",
       "      <td>False</td>\n",
       "      <td>False</td>\n",
       "      <td>False</td>\n",
       "      <td>False</td>\n",
       "      <td>False</td>\n",
       "      <td>True</td>\n",
       "      <td>False</td>\n",
       "      <td>False</td>\n",
       "    </tr>\n",
       "    <tr>\n",
       "      <th>1460</th>\n",
       "      <td>ISIC_0012654_downsampled</td>\n",
       "      <td>-1.337780</td>\n",
       "      <td>MSK4_0011170</td>\n",
       "      <td>True</td>\n",
       "      <td>False</td>\n",
       "      <td>False</td>\n",
       "      <td>False</td>\n",
       "      <td>False</td>\n",
       "      <td>False</td>\n",
       "      <td>True</td>\n",
       "      <td>False</td>\n",
       "      <td>False</td>\n",
       "      <td>False</td>\n",
       "      <td>False</td>\n",
       "      <td>False</td>\n",
       "    </tr>\n",
       "    <tr>\n",
       "      <th>1461</th>\n",
       "      <td>ISIC_0012655_downsampled</td>\n",
       "      <td>-1.059601</td>\n",
       "      <td>MSK4_0011171</td>\n",
       "      <td>True</td>\n",
       "      <td>False</td>\n",
       "      <td>False</td>\n",
       "      <td>False</td>\n",
       "      <td>False</td>\n",
       "      <td>False</td>\n",
       "      <td>False</td>\n",
       "      <td>False</td>\n",
       "      <td>False</td>\n",
       "      <td>False</td>\n",
       "      <td>False</td>\n",
       "      <td>True</td>\n",
       "    </tr>\n",
       "    <tr>\n",
       "      <th>1462</th>\n",
       "      <td>ISIC_0012656_downsampled</td>\n",
       "      <td>-0.503241</td>\n",
       "      <td>MSK4_0011172</td>\n",
       "      <td>False</td>\n",
       "      <td>True</td>\n",
       "      <td>False</td>\n",
       "      <td>False</td>\n",
       "      <td>False</td>\n",
       "      <td>False</td>\n",
       "      <td>False</td>\n",
       "      <td>False</td>\n",
       "      <td>False</td>\n",
       "      <td>True</td>\n",
       "      <td>False</td>\n",
       "      <td>False</td>\n",
       "    </tr>\n",
       "    <tr>\n",
       "      <th>1463</th>\n",
       "      <td>ISIC_0012657_downsampled</td>\n",
       "      <td>-1.894140</td>\n",
       "      <td>MSK4_0011173</td>\n",
       "      <td>True</td>\n",
       "      <td>False</td>\n",
       "      <td>False</td>\n",
       "      <td>False</td>\n",
       "      <td>False</td>\n",
       "      <td>False</td>\n",
       "      <td>False</td>\n",
       "      <td>False</td>\n",
       "      <td>False</td>\n",
       "      <td>False</td>\n",
       "      <td>False</td>\n",
       "      <td>True</td>\n",
       "    </tr>\n",
       "  </tbody>\n",
       "</table>\n",
       "</div>"
      ],
      "text/plain": [
       "                         image  age_approx     lesion_id  sex_female  \\\n",
       "1459  ISIC_0012653_downsampled   -0.225061  MSK4_0011169        True   \n",
       "1460  ISIC_0012654_downsampled   -1.337780  MSK4_0011170        True   \n",
       "1461  ISIC_0012655_downsampled   -1.059601  MSK4_0011171        True   \n",
       "1462  ISIC_0012656_downsampled   -0.503241  MSK4_0011172       False   \n",
       "1463  ISIC_0012657_downsampled   -1.894140  MSK4_0011173        True   \n",
       "\n",
       "      sex_male  sex_unknown  anatom_site_general_anterior torso  \\\n",
       "1459     False        False                               False   \n",
       "1460     False        False                               False   \n",
       "1461     False        False                               False   \n",
       "1462      True        False                               False   \n",
       "1463     False        False                               False   \n",
       "\n",
       "      anatom_site_general_head/neck  anatom_site_general_lateral torso  \\\n",
       "1459                          False                              False   \n",
       "1460                          False                              False   \n",
       "1461                          False                              False   \n",
       "1462                          False                              False   \n",
       "1463                          False                              False   \n",
       "\n",
       "      anatom_site_general_lower extremity  anatom_site_general_oral/genital  \\\n",
       "1459                                False                             False   \n",
       "1460                                 True                             False   \n",
       "1461                                False                             False   \n",
       "1462                                False                             False   \n",
       "1463                                False                             False   \n",
       "\n",
       "      anatom_site_general_palms/soles  anatom_site_general_posterior torso  \\\n",
       "1459                            False                                 True   \n",
       "1460                            False                                False   \n",
       "1461                            False                                False   \n",
       "1462                            False                                 True   \n",
       "1463                            False                                False   \n",
       "\n",
       "      anatom_site_general_unknown  anatom_site_general_upper extremity  \n",
       "1459                        False                                False  \n",
       "1460                        False                                False  \n",
       "1461                        False                                 True  \n",
       "1462                        False                                False  \n",
       "1463                        False                                 True  "
      ]
     },
     "execution_count": 54,
     "metadata": {},
     "output_type": "execute_result"
    }
   ],
   "source": [
    "# Convert 'sex' and 'anatom_site_general' to one-hot encoded variables\n",
    "metadata_clean = pd.get_dummies(metadata_clean, columns=['sex', 'anatom_site_general'])\n",
    "metadata_clean.head()\n"
   ]
  },
  {
   "cell_type": "markdown",
   "id": "9a100037",
   "metadata": {},
   "source": [
    "## Save as csv"
   ]
  },
  {
   "cell_type": "code",
   "execution_count": 55,
   "id": "1c18505a",
   "metadata": {
    "ExecuteTime": {
     "end_time": "2025-06-16T00:27:57.444877Z",
     "start_time": "2025-06-16T00:27:57.382033Z"
    }
   },
   "outputs": [],
   "source": [
    "metadata_clean.to_csv('cleaned_data/ISIC_2019_Training_Metadata_Cleaned.csv', index=False)"
   ]
  }
 ],
 "metadata": {
  "kernelspec": {
   "display_name": "venv",
   "language": "python",
   "name": "python3"
  },
  "language_info": {
   "codemirror_mode": {
    "name": "ipython",
    "version": 3
   },
   "file_extension": ".py",
   "mimetype": "text/x-python",
   "name": "python",
   "nbconvert_exporter": "python",
   "pygments_lexer": "ipython3",
   "version": "3.13.4"
  }
 },
 "nbformat": 4,
 "nbformat_minor": 5
}

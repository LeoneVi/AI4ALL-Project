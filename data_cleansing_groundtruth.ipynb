{
 "cells": [
  {
   "metadata": {},
   "cell_type": "markdown",
   "source": "## Import Packages",
   "id": "d1ea31c4f29bd5c5"
  },
  {
   "metadata": {
    "ExecuteTime": {
     "end_time": "2025-06-08T22:14:37.347704Z",
     "start_time": "2025-06-08T22:14:37.345754Z"
    }
   },
   "cell_type": "code",
   "source": [
    "import kagglehub\n",
    "import numpy as np\n",
    "import pandas as pd\n",
    "import os"
   ],
   "id": "fbc121e30a2defb3",
   "outputs": [],
   "execution_count": 5
  },
  {
   "metadata": {},
   "cell_type": "markdown",
   "source": "## Load the dataset",
   "id": "41647eceee4eaa9c"
  },
  {
   "metadata": {
    "ExecuteTime": {
     "end_time": "2025-06-08T22:52:55.974147Z",
     "start_time": "2025-06-08T22:52:55.954525Z"
    }
   },
   "cell_type": "code",
   "source": [
    "labels_df = pd.read_csv('data/andrewmvd/isic-2019/versions/1/ISIC_2019_Training_GroundTruth.csv')\n",
    "\n",
    "\n",
    "print(\"ISIC_2019_Training_GroundTruth.csv\")\n",
    "print(labels_df.head(),\"\\n\")\n",
    "\n",
    "\n",
    "print(\"Number of rows in GroundTruth CSV\", len(labels_df))\n"
   ],
   "id": "c6c99ba3b14bf69d",
   "outputs": [
    {
     "name": "stdout",
     "output_type": "stream",
     "text": [
      "ISIC_2019_Training_GroundTruth.csv\n",
      "          image  MEL   NV  BCC   AK  BKL   DF  VASC  SCC  UNK\n",
      "0  ISIC_0000000  0.0  1.0  0.0  0.0  0.0  0.0   0.0  0.0  0.0\n",
      "1  ISIC_0000001  0.0  1.0  0.0  0.0  0.0  0.0   0.0  0.0  0.0\n",
      "2  ISIC_0000002  1.0  0.0  0.0  0.0  0.0  0.0   0.0  0.0  0.0\n",
      "3  ISIC_0000003  0.0  1.0  0.0  0.0  0.0  0.0   0.0  0.0  0.0\n",
      "4  ISIC_0000004  1.0  0.0  0.0  0.0  0.0  0.0   0.0  0.0  0.0 \n",
      "\n",
      "Number of rows in GroundTruth CSV 25331\n"
     ]
    }
   ],
   "execution_count": 24
  },
  {
   "metadata": {
    "ExecuteTime": {
     "end_time": "2025-06-08T22:53:27.554572Z",
     "start_time": "2025-06-08T22:53:27.542207Z"
    }
   },
   "cell_type": "code",
   "source": "labels_df.info()",
   "id": "6d22159116282992",
   "outputs": [
    {
     "name": "stdout",
     "output_type": "stream",
     "text": [
      "<class 'pandas.core.frame.DataFrame'>\n",
      "RangeIndex: 25331 entries, 0 to 25330\n",
      "Data columns (total 10 columns):\n",
      " #   Column  Non-Null Count  Dtype  \n",
      "---  ------  --------------  -----  \n",
      " 0   image   25331 non-null  object \n",
      " 1   MEL     25331 non-null  float64\n",
      " 2   NV      25331 non-null  float64\n",
      " 3   BCC     25331 non-null  float64\n",
      " 4   AK      25331 non-null  float64\n",
      " 5   BKL     25331 non-null  float64\n",
      " 6   DF      25331 non-null  float64\n",
      " 7   VASC    25331 non-null  float64\n",
      " 8   SCC     25331 non-null  float64\n",
      " 9   UNK     25331 non-null  float64\n",
      "dtypes: float64(9), object(1)\n",
      "memory usage: 1.9+ MB\n"
     ]
    }
   ],
   "execution_count": 25
  }
 ],
 "metadata": {
  "kernelspec": {
   "display_name": "Python 3",
   "language": "python",
   "name": "python3"
  },
  "language_info": {
   "codemirror_mode": {
    "name": "ipython",
    "version": 2
   },
   "file_extension": ".py",
   "mimetype": "text/x-python",
   "name": "python",
   "nbconvert_exporter": "python",
   "pygments_lexer": "ipython2",
   "version": "2.7.6"
  }
 },
 "nbformat": 4,
 "nbformat_minor": 5
}

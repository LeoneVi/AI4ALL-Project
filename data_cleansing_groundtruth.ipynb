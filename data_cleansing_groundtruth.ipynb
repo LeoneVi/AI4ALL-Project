{
 "cells": [
  {
   "cell_type": "markdown",
   "id": "d1ea31c4f29bd5c5",
   "metadata": {},
   "source": [
    "## Import Packages"
   ]
  },
  {
   "cell_type": "code",
   "execution_count": 5,
   "id": "fbc121e30a2defb3",
   "metadata": {
    "ExecuteTime": {
     "end_time": "2025-06-08T22:14:37.347704Z",
     "start_time": "2025-06-08T22:14:37.345754Z"
    }
   },
   "outputs": [],
   "source": [
    "import kagglehub\n",
    "import numpy as np\n",
    "import pandas as pd\n",
    "import os"
   ]
  },
  {
   "cell_type": "markdown",
   "id": "41647eceee4eaa9c",
   "metadata": {},
   "source": [
    "## Load the dataset"
   ]
  },
  {
   "cell_type": "code",
   "execution_count": 24,
   "id": "c6c99ba3b14bf69d",
   "metadata": {
    "ExecuteTime": {
     "end_time": "2025-06-08T22:52:55.974147Z",
     "start_time": "2025-06-08T22:52:55.954525Z"
    }
   },
   "outputs": [
    {
     "name": "stdout",
     "output_type": "stream",
     "text": [
      "ISIC_2019_Training_GroundTruth.csv\n",
      "          image  MEL   NV  BCC   AK  BKL   DF  VASC  SCC  UNK\n",
      "0  ISIC_0000000  0.0  1.0  0.0  0.0  0.0  0.0   0.0  0.0  0.0\n",
      "1  ISIC_0000001  0.0  1.0  0.0  0.0  0.0  0.0   0.0  0.0  0.0\n",
      "2  ISIC_0000002  1.0  0.0  0.0  0.0  0.0  0.0   0.0  0.0  0.0\n",
      "3  ISIC_0000003  0.0  1.0  0.0  0.0  0.0  0.0   0.0  0.0  0.0\n",
      "4  ISIC_0000004  1.0  0.0  0.0  0.0  0.0  0.0   0.0  0.0  0.0 \n",
      "\n",
      "Number of rows in GroundTruth CSV 25331\n"
     ]
    }
   ],
   "source": [
    "labels_df = pd.read_csv('data/andrewmvd/isic-2019/versions/1/ISIC_2019_Training_GroundTruth.csv')\n",
    "\n",
    "\n",
    "print(\"ISIC_2019_Training_GroundTruth.csv\")\n",
    "print(labels_df.head(),\"\\n\")\n",
    "\n",
    "\n",
    "print(\"Number of rows in GroundTruth CSV\", len(labels_df))\n"
   ]
  },
  {
   "cell_type": "code",
   "execution_count": 25,
   "id": "6d22159116282992",
   "metadata": {
    "ExecuteTime": {
     "end_time": "2025-06-08T22:53:27.554572Z",
     "start_time": "2025-06-08T22:53:27.542207Z"
    }
   },
   "outputs": [
    {
     "name": "stdout",
     "output_type": "stream",
     "text": [
      "<class 'pandas.core.frame.DataFrame'>\n",
      "RangeIndex: 25331 entries, 0 to 25330\n",
      "Data columns (total 10 columns):\n",
      " #   Column  Non-Null Count  Dtype  \n",
      "---  ------  --------------  -----  \n",
      " 0   image   25331 non-null  object \n",
      " 1   MEL     25331 non-null  float64\n",
      " 2   NV      25331 non-null  float64\n",
      " 3   BCC     25331 non-null  float64\n",
      " 4   AK      25331 non-null  float64\n",
      " 5   BKL     25331 non-null  float64\n",
      " 6   DF      25331 non-null  float64\n",
      " 7   VASC    25331 non-null  float64\n",
      " 8   SCC     25331 non-null  float64\n",
      " 9   UNK     25331 non-null  float64\n",
      "dtypes: float64(9), object(1)\n",
      "memory usage: 1.9+ MB\n"
     ]
    }
   ],
   "source": [
    "labels_df.info()"
   ]
  },
  {
   "cell_type": "markdown",
   "id": "8b2c1cc5",
   "metadata": {},
   "source": [
    "# Data cleaning"
   ]
  },
  {
   "cell_type": "code",
   "execution_count": 46,
   "id": "02a9033e",
   "metadata": {},
   "outputs": [
    {
     "name": "stdout",
     "output_type": "stream",
     "text": [
      "NV      12875.0\n",
      "MEL      4522.0\n",
      "BCC      3323.0\n",
      "BKL      2624.0\n",
      "AK        867.0\n",
      "SCC       628.0\n",
      "VASC      253.0\n",
      "DF        239.0\n",
      "UNK         0.0\n",
      "dtype: float64\n",
      "Number of multi-label rows: 0\n",
      "Number of no-label rows: 0\n"
     ]
    }
   ],
   "source": [
    "#count the number of positive samples for each disease\n",
    "cat_counts = labels_df.iloc[:, 1:].sum().sort_values(ascending=False)\n",
    "print(cat_counts)\n",
    "\n",
    "#Show if there are any rows with multiple positive labels\n",
    "multi_label_rows = labels_df.iloc[:, 1:].sum(axis=1) > 1\n",
    "print(f\"Number of multi-label rows: {multi_label_rows.sum()}\")\n",
    "no_label =  labels_df.iloc[:, 1:].sum(axis=1) == 0\n",
    "print(f\"Number of no-label rows: {no_label.sum()}\")"
   ]
  },
  {
   "cell_type": "code",
   "execution_count": 47,
   "id": "1cf910ed",
   "metadata": {},
   "outputs": [],
   "source": [
    "#Make a copy, dropping UNK since its count is 0\n",
    "groundtruth_clean = labels_df.drop(columns=['UNK'])"
   ]
  },
  {
   "cell_type": "markdown",
   "id": "4c600140",
   "metadata": {},
   "source": [
    "# Save new CSV"
   ]
  },
  {
   "cell_type": "code",
   "execution_count": 48,
   "id": "0d2e568b",
   "metadata": {},
   "outputs": [],
   "source": [
    "#groundtruth_clean.to_csv('cleaned_data/ISIC_2019_Training_GroundTruth_Clean.csv', index=False)\n",
    "#uncomment when clean"
   ]
  }
 ],
 "metadata": {
  "kernelspec": {
   "display_name": "Python 3",
   "language": "python",
   "name": "python3"
  },
  "language_info": {
   "codemirror_mode": {
    "name": "ipython",
    "version": 2
   },
   "file_extension": ".py",
   "mimetype": "text/x-python",
   "name": "python",
   "nbconvert_exporter": "python",
   "pygments_lexer": "ipython2",
   "version": "2.7.6"
  }
 },
 "nbformat": 4,
 "nbformat_minor": 5
}

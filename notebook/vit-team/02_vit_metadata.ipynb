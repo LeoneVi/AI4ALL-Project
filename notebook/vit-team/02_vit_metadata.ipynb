{
 "cells": [
  {
   "metadata": {},
   "cell_type": "code",
   "outputs": [],
   "execution_count": null,
   "source": "",
   "id": "1a31790b02939671"
  }
 ],
 "metadata": {},
 "nbformat": 4,
 "nbformat_minor": 5
}

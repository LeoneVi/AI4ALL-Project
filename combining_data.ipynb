{
 "cells": [
  {
   "cell_type": "code",
   "execution_count": 12,
   "id": "7d388dca",
   "metadata": {},
   "outputs": [],
   "source": [
    "import pandas as pd"
   ]
  },
  {
   "cell_type": "code",
   "execution_count": 13,
   "id": "b77b859e",
   "metadata": {},
   "outputs": [],
   "source": [
    "# Load the metadata and ground truth CSV files\n",
    "df1 = pd.read_csv('cleaned_data\\\\ISIC_2019_Training_Metadata_Cleaned.csv') \n",
    "df2 = pd.read_csv('cleaned_data\\\\ISIC_2019_Training_GroundTruth_Clean.csv')  \n",
    "\n",
    "# Merge the two DataFrames on the 'image' column\n",
    "merged = pd.merge(df1, df2, on='image', how='inner')"
   ]
  },
  {
   "cell_type": "code",
   "execution_count": 14,
   "id": "9953e03c",
   "metadata": {},
   "outputs": [],
   "source": [
    "# Create a new column 'other' that is 1.0 if all of the specified columns are 0, otherwise 0\n",
    "merged[\"other\"] = (merged[[\"MEL\", \"NV\", \"BCC\", \"BKL\"]].sum(axis=1) == 0).astype(float)"
   ]
  },
  {
   "cell_type": "code",
   "execution_count": 15,
   "id": "d92d8057",
   "metadata": {},
   "outputs": [
    {
     "data": {
      "text/plain": [
       "np.float64(1987.0)"
      ]
     },
     "execution_count": 15,
     "metadata": {},
     "output_type": "execute_result"
    }
   ],
   "source": [
    "# Check the sum of the 'other' column\n",
    "merged['other'].sum()"
   ]
  },
  {
   "cell_type": "code",
   "execution_count": 16,
   "id": "6abdd31f",
   "metadata": {},
   "outputs": [],
   "source": [
    "merged.to_csv('cleaned_data/combined_GT_MD.csv', index=False)"
   ]
  },
  {
   "cell_type": "code",
   "execution_count": null,
   "id": "52e776aa",
   "metadata": {},
   "outputs": [],
   "source": []
  }
 ],
 "metadata": {
  "kernelspec": {
   "display_name": "Python 3",
   "language": "python",
   "name": "python3"
  },
  "language_info": {
   "codemirror_mode": {
    "name": "ipython",
    "version": 3
   },
   "file_extension": ".py",
   "mimetype": "text/x-python",
   "name": "python",
   "nbconvert_exporter": "python",
   "pygments_lexer": "ipython3",
   "version": "3.13.4"
  }
 },
 "nbformat": 4,
 "nbformat_minor": 5
}
